{
 "cells": [
  {
   "cell_type": "markdown",
   "metadata": {},
   "source": [
    "# Importation des librairies"
   ]
  },
  {
   "cell_type": "code",
   "execution_count": 62,
   "metadata": {},
   "outputs": [
    {
     "name": "stdout",
     "output_type": "stream",
     "text": [
      "['Feature_selection_wrapper.ipynb', 'random_forest.ipynb', 'README.md', 'feature_importance_nn.ipynb', 'random_forest_gridsearch.ipynb']\n"
     ]
    }
   ],
   "source": [
    "import numpy as np\n",
    "import pandas as pd\n",
    "import matplotlib.pyplot as plt\n",
    "import seaborn as sns\n",
    "import os\n",
    "import sys\n",
    "import yaml\n",
    "import torch\n",
    "\n",
    "sys.path.append(os.path.dirname(\"../src\"))\n",
    "\n",
    "%matplotlib inline"
   ]
  },
  {
   "cell_type": "code",
   "execution_count": 75,
   "metadata": {},
   "outputs": [],
   "source": [
    "with open('../src/config.yaml', \"r\") as ymlfile:\n",
    "    cfg = yaml.load(ymlfile, Loader=yaml.Loader)"
   ]
  },
  {
   "cell_type": "markdown",
   "metadata": {},
   "source": [
    "# Chargement des données"
   ]
  },
  {
   "cell_type": "code",
   "execution_count": 76,
   "metadata": {},
   "outputs": [
    {
     "name": "stdout",
     "output_type": "stream",
     "text": [
      "\n",
      "#################\n",
      "# Loading files #\n",
      "#################\n",
      "\n",
      "You selected : ['DP980GA_Galma1_upgrade.csv' 'DP980GI_SDG3-v2_20220208_upgrade.csv'\n",
      " 'DP980GI_SDG3.5_20220208_upgrade.csv' 'DP980Y700_EKO1_upgrade.csv'\n",
      " 'DP980Y700_SDG3_2021_upgrade.csv' 'DP980_Sagunto_2021_upgrade.csv']\n",
      "\n"
     ]
    },
    {
     "name": "stderr",
     "output_type": "stream",
     "text": [
      "100%|██████████| 6/6 [00:00<00:00, 355.99it/s]"
     ]
    },
    {
     "name": "stdout",
     "output_type": "stream",
     "text": [
      "\n",
      "###################\n",
      "# Remove features #\n",
      "###################\n",
      "\n",
      "You removed : \n",
      "\t['Coilnr', 'Date', 'Linespeed (m/min)', 'B ppm']\n",
      "\n",
      "You want to predict : rm\n"
     ]
    },
    {
     "name": "stderr",
     "output_type": "stream",
     "text": [
      "\n"
     ]
    }
   ],
   "source": [
    "from src.data.dataset_utils import basic_random_split, merge_files, RegressionDataset\n",
    "from torch.utils.data import DataLoader\n",
    "\n",
    "path_to_data = cfg[\"DATA_DIR\"]\n",
    "\n",
    "data, features_name = basic_random_split(\n",
    "        path_to_data=path_to_data,\n",
    "        preprocessing=cfg[\"DATASET\"][\"PREPROCESSING\"],\n",
    "        test_valid_ratio=cfg[\"DATASET\"][\"TEST_VALID_RATIO\"],\n",
    "        which=cfg[\"DATASET\"][\"PREPROCESSING\"][\"MERGE_FILES\"][\"WHICH\"],\n",
    "    )\n",
    "\n",
    "target_to_predict = cfg[\"DATASET\"][\"PREPROCESSING\"][\"TARGET\"]\n",
    "print(f\"\\nYou want to predict : {cfg['DATASET']['PREPROCESSING']['TARGET']}\")\n",
    "\n",
    "x_train, y_train, x_valid, y_valid, x_test, y_test = merge_files(\n",
    "    data=data, target_to_predict=target_to_predict\n",
    ")\n",
    "\n",
    "# Create train, valid and test dataset\n",
    "train_dataset = RegressionDataset(\n",
    "    x_data=torch.from_numpy(x_train).float(),\n",
    "    y_data=torch.from_numpy(y_train).float(),\n",
    ")\n",
    "valid_dataset = RegressionDataset(\n",
    "    x_data=torch.from_numpy(x_valid).float(),\n",
    "    y_data=torch.from_numpy(y_valid).float(),\n",
    ")\n",
    "test_dataset = RegressionDataset(\n",
    "    x_data=torch.from_numpy(x_test).float(), y_data=torch.from_numpy(y_test).float()\n",
    ")\n",
    "\n",
    "# DataLoader\n",
    "\n",
    "train_loader = DataLoader(\n",
    "    dataset=train_dataset,\n",
    "    batch_size=cfg[\"DATASET\"][\"BATCH_SIZE\"],\n",
    "    num_workers=cfg[\"DATASET\"][\"NUM_THREADS\"],\n",
    "    shuffle=False,\n",
    ")\n",
    "\n",
    "valid_loader = DataLoader(\n",
    "    dataset=valid_dataset,\n",
    "    batch_size=cfg[\"DATASET\"][\"BATCH_SIZE\"],\n",
    "    shuffle=False,\n",
    "    num_workers=cfg[\"DATASET\"][\"NUM_THREADS\"],\n",
    ")\n",
    "test_loader = DataLoader(\n",
    "    dataset=test_dataset,\n",
    "    batch_size=cfg[\"TEST\"][\"BATCH_SIZE\"],\n",
    "    shuffle=False,\n",
    "    num_workers=cfg[\"DATASET\"][\"NUM_THREADS\"],\n",
    ")"
   ]
  },
  {
   "cell_type": "markdown",
   "metadata": {},
   "source": [
    "# Chargement du modèle"
   ]
  },
  {
   "cell_type": "code",
   "execution_count": 77,
   "metadata": {},
   "outputs": [
    {
     "data": {
      "text/plain": [
       "LinearNet_3(\n",
       "  (layer_1): Linear(in_features=20, out_features=256, bias=True)\n",
       "  (layer_2): Linear(in_features=256, out_features=128, bias=True)\n",
       "  (layer_out): Linear(in_features=128, out_features=1, bias=True)\n",
       "  (bn1): BatchNorm1d(256, eps=1e-05, momentum=0.1, affine=True, track_running_stats=True)\n",
       "  (bn2): BatchNorm1d(128, eps=1e-05, momentum=0.1, affine=True, track_running_stats=True)\n",
       "  (drops): Dropout(p=0.1, inplace=False)\n",
       ")"
      ]
     },
     "execution_count": 77,
     "metadata": {},
     "output_type": "execute_result"
    }
   ],
   "source": [
    "import torch.nn as nn\n",
    "from tools.utils import load_model\n",
    "\n",
    "# Define device for computational efficiency\n",
    "if not torch.cuda.is_available():\n",
    "    device = torch.device(\"cpu\")\n",
    "else:\n",
    "    device = torch.device(\"cuda\")\n",
    "\n",
    "# Load model for inference\n",
    "input_size = train_loader.dataset[0][0].shape[0]\n",
    "\n",
    "# Define the loss\n",
    "f_loss = nn.MSELoss()\n",
    "\n",
    "# Load model\n",
    "model_path = cfg[\"TEST\"][\"PATH_TO_MODEL\"]\n",
    "model = load_model(\n",
    "    cfg=cfg,\n",
    "    input_size=input_size,\n",
    "    num_hidden_neuron=cfg[\"TRAIN\"][\"NUM_HIDDEN_NEURON\"],\n",
    ")\n",
    "model = model.to(device)\n",
    "\n",
    "model.load_state_dict(torch.load(model_path))\n",
    "model.eval()"
   ]
  },
  {
   "cell_type": "code",
   "execution_count": 88,
   "metadata": {},
   "outputs": [],
   "source": [
    "from captum.attr import IntegratedGradients\n",
    "\n",
    "ig = IntegratedGradients(model)\n",
    "attributions_ig, delta_ig = ig.attribute(train_loader.dataset.x_data, return_convergence_delta=True)\n"
   ]
  },
  {
   "cell_type": "code",
   "execution_count": 89,
   "metadata": {},
   "outputs": [],
   "source": [
    "result = pd.DataFrame(np.concatenate((np.array(features_name).reshape(-1, 1), abs(np.mean(np.array(attributions_ig), axis=0).reshape(-1, 1))), axis=1), columns=['x', 'y'])"
   ]
  },
  {
   "cell_type": "code",
   "execution_count": 90,
   "metadata": {},
   "outputs": [
    {
     "data": {
      "text/plain": [
       "Text(0, 0.5, 'Feature Names')"
      ]
     },
     "execution_count": 90,
     "metadata": {},
     "output_type": "execute_result"
    },
    {
     "data": {
      "image/png": "[encoded data removed]",
      "text/plain": [
       "<Figure size 1296x576 with 1 Axes>"
      ]
     },
     "metadata": {
      "needs_background": "light"
     },
     "output_type": "display_data"
    }
   ],
   "source": [
    "result.sort_values(by=[\"y\"], ascending=False, inplace=True)\n",
    "# Define size of bar plot\n",
    "fig = plt.figure(figsize=(18, 8))\n",
    "# Plot Searborn bar chart\n",
    "sns.barplot(x='y', y='x', data=result)\n",
    "# Add chart labels\n",
    "plt.title(f\"NN - Features Importance for r_m prediction\")\n",
    "plt.xlabel(\"Feature Importance\")\n",
    "plt.ylabel(\"Feature Names\")"
   ]
  },
  {
   "cell_type": "markdown",
   "metadata": {},
   "source": []
  }
 ],
 "metadata": {
  "interpreter": {
   "hash": "40d3a090f54c6569ab1632332b64b2c03c39dcf918b08424e98f38b5ae0af88f"
  },
  "kernelspec": {
   "display_name": "Python 3.8.5 64-bit ('base': conda)",
   "language": "python",
   "name": "python3"
  },
  "language_info": {
   "codemirror_mode": {
    "name": "ipython",
    "version": 3
   },
   "file_extension": ".py",
   "mimetype": "text/x-python",
   "name": "python",
   "nbconvert_exporter": "python",
   "pygments_lexer": "ipython3",
   "version": "3.8.10"
  },
  "orig_nbformat": 4
 },
 "nbformat": 4,
 "nbformat_minor": 2
}
