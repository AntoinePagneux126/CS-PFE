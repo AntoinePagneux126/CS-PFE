{
 "cells": [
  {
   "cell_type": "markdown",
   "metadata": {},
   "source": [
    "# Importation des librairies"
   ]
  },
  {
   "cell_type": "code",
   "execution_count": 1,
   "metadata": {},
   "outputs": [],
   "source": [
    "import numpy as np\n",
    "import pandas as pd\n",
    "import matplotlib.pyplot as plt\n",
    "import seaborn as sns\n",
    "import os"
   ]
  },
  {
   "cell_type": "code",
   "execution_count": 2,
   "metadata": {},
   "outputs": [
    {
     "name": "stdout",
     "output_type": "stream",
     "text": [
      "['DP980GA_Galma1_upgrade.csv', 'DP980GI_SDG3-v2_20220208_upgrade.csv', 'DP980GI_SDG3.5_20220208_upgrade.csv', 'DP980Y700_EKO1_upgrade.csv', 'DP980Y700_SDG3_2021_upgrade.csv', 'DP980_Sagunto_2021_upgrade.csv']\n"
     ]
    }
   ],
   "source": [
    "%matplotlib inline\n",
    "\n",
    "\n",
    "APPLY_GRIDSEARCH = False\n",
    "DATA_PATH=\"data/\"\n",
    "FILTER_DIRECTION = False\n",
    "\n",
    "\n",
    "print(sorted(os.listdir(DATA_PATH)))"
   ]
  },
  {
   "cell_type": "markdown",
   "metadata": {},
   "source": [
    "# Chargement des données\n",
    "Utilisation d'une dataframe panda"
   ]
  },
  {
   "cell_type": "code",
   "execution_count": 3,
   "metadata": {},
   "outputs": [],
   "source": [
    "df1 = pd.read_csv(DATA_PATH + 'DP980Y700_SDG3_2021_upgrade.csv', delimiter =\";\", decimal=\",\")\n",
    "df2 = pd.read_csv(DATA_PATH + 'DP980GA_Galma1_upgrade.csv', delimiter =\";\", decimal=\",\")\n",
    "df3 = pd.read_csv(DATA_PATH + 'DP980Y700_EKO1_upgrade.csv', delimiter =\";\", decimal=\",\")\n",
    "df4 = pd.read_csv(DATA_PATH + 'DP980_Sagunto_2021_upgrade.csv', delimiter =\";\", decimal=\",\")\n",
    "df5 = pd.read_csv(DATA_PATH + 'DP980GI_SDG3-v2_20220208_upgrade.csv', delimiter =\";\", decimal=\",\")\n",
    "df6 = pd.read_csv(DATA_PATH + 'DP980GI_SDG3.5_20220208_upgrade.csv', delimiter =\";\", decimal=\",\")\n",
    "\n",
    "frames = [df1, df2, df3, df4, df5, df6]\n",
    "\n",
    "df = pd.concat(frames, ignore_index=True)\n",
    "df = df.fillna(0) # replace NaN by 0"
   ]
  },
  {
   "cell_type": "markdown",
   "metadata": {},
   "source": []
  },
  {
   "cell_type": "markdown",
   "metadata": {},
   "source": [
    "# Description des données"
   ]
  },
  {
   "cell_type": "code",
   "execution_count": 4,
   "metadata": {},
   "outputs": [
    {
     "data": {
      "text/html": [
       "<div>\n",
       "<style scoped>\n",
       "    .dataframe tbody tr th:only-of-type {\n",
       "        vertical-align: middle;\n",
       "    }\n",
       "\n",
       "    .dataframe tbody tr th {\n",
       "        vertical-align: top;\n",
       "    }\n",
       "\n",
       "    .dataframe thead th {\n",
       "        text-align: right;\n",
       "    }\n",
       "</style>\n",
       "<table border=\"1\" class=\"dataframe\">\n",
       "  <thead>\n",
       "    <tr style=\"text-align: right;\">\n",
       "      <th></th>\n",
       "      <th>Coilnr</th>\n",
       "      <th>Date</th>\n",
       "      <th>Direction</th>\n",
       "      <th>Type</th>\n",
       "      <th>Th mm</th>\n",
       "      <th>Re02 Mpa</th>\n",
       "      <th>Rm Mpa</th>\n",
       "      <th>A80 x10%</th>\n",
       "      <th>C ppm</th>\n",
       "      <th>Mn ppm</th>\n",
       "      <th>...</th>\n",
       "      <th>B ppm</th>\n",
       "      <th>Mo ppm</th>\n",
       "      <th>Linespeed (m/min)</th>\n",
       "      <th>SKP elongation (%)</th>\n",
       "      <th>Heating C/s 660 to 750</th>\n",
       "      <th>t_soaking_hot s</th>\n",
       "      <th>Cooling C/s</th>\n",
       "      <th>t_soaking_cold s</th>\n",
       "      <th>soaking_hot C</th>\n",
       "      <th>soaking_cold C</th>\n",
       "    </tr>\n",
       "  </thead>\n",
       "  <tbody>\n",
       "    <tr>\n",
       "      <th>0</th>\n",
       "      <td>41971853</td>\n",
       "      <td>44202</td>\n",
       "      <td>L</td>\n",
       "      <td>I20</td>\n",
       "      <td>1.92</td>\n",
       "      <td>791.0</td>\n",
       "      <td>1058.0</td>\n",
       "      <td>107.0</td>\n",
       "      <td>813.0</td>\n",
       "      <td>25430</td>\n",
       "      <td>...</td>\n",
       "      <td>19.0</td>\n",
       "      <td>959.0</td>\n",
       "      <td>51.922714</td>\n",
       "      <td>0.395166</td>\n",
       "      <td>1.373933</td>\n",
       "      <td>101.689599</td>\n",
       "      <td>-13.559891</td>\n",
       "      <td>57.778181</td>\n",
       "      <td>798.669830</td>\n",
       "      <td>487.601574</td>\n",
       "    </tr>\n",
       "    <tr>\n",
       "      <th>1</th>\n",
       "      <td>41943566</td>\n",
       "      <td>44204</td>\n",
       "      <td>L</td>\n",
       "      <td>I20</td>\n",
       "      <td>1.01</td>\n",
       "      <td>690.0</td>\n",
       "      <td>1029.0</td>\n",
       "      <td>114.0</td>\n",
       "      <td>713.0</td>\n",
       "      <td>25290</td>\n",
       "      <td>...</td>\n",
       "      <td>18.0</td>\n",
       "      <td>942.0</td>\n",
       "      <td>130.468628</td>\n",
       "      <td>0.453954</td>\n",
       "      <td>3.771506</td>\n",
       "      <td>40.469499</td>\n",
       "      <td>-33.617532</td>\n",
       "      <td>22.994033</td>\n",
       "      <td>804.154785</td>\n",
       "      <td>497.245289</td>\n",
       "    </tr>\n",
       "    <tr>\n",
       "      <th>2</th>\n",
       "      <td>42071675</td>\n",
       "      <td>44205</td>\n",
       "      <td>L</td>\n",
       "      <td>I20</td>\n",
       "      <td>1.62</td>\n",
       "      <td>796.0</td>\n",
       "      <td>1037.0</td>\n",
       "      <td>106.0</td>\n",
       "      <td>758.0</td>\n",
       "      <td>25530</td>\n",
       "      <td>...</td>\n",
       "      <td>20.0</td>\n",
       "      <td>967.0</td>\n",
       "      <td>78.013863</td>\n",
       "      <td>0.394861</td>\n",
       "      <td>2.374375</td>\n",
       "      <td>67.680279</td>\n",
       "      <td>-21.721390</td>\n",
       "      <td>38.454704</td>\n",
       "      <td>813.640350</td>\n",
       "      <td>484.193967</td>\n",
       "    </tr>\n",
       "    <tr>\n",
       "      <th>3</th>\n",
       "      <td>42071668</td>\n",
       "      <td>44205</td>\n",
       "      <td>L</td>\n",
       "      <td>I20</td>\n",
       "      <td>1.62</td>\n",
       "      <td>745.0</td>\n",
       "      <td>1036.0</td>\n",
       "      <td>105.0</td>\n",
       "      <td>758.0</td>\n",
       "      <td>25530</td>\n",
       "      <td>...</td>\n",
       "      <td>20.0</td>\n",
       "      <td>967.0</td>\n",
       "      <td>76.819946</td>\n",
       "      <td>0.394584</td>\n",
       "      <td>2.412430</td>\n",
       "      <td>68.732149</td>\n",
       "      <td>-21.563130</td>\n",
       "      <td>39.052357</td>\n",
       "      <td>814.985870</td>\n",
       "      <td>481.330018</td>\n",
       "    </tr>\n",
       "    <tr>\n",
       "      <th>4</th>\n",
       "      <td>42071705</td>\n",
       "      <td>44206</td>\n",
       "      <td>L</td>\n",
       "      <td>I20</td>\n",
       "      <td>1.92</td>\n",
       "      <td>776.0</td>\n",
       "      <td>1006.0</td>\n",
       "      <td>95.0</td>\n",
       "      <td>735.0</td>\n",
       "      <td>25686</td>\n",
       "      <td>...</td>\n",
       "      <td>19.0</td>\n",
       "      <td>959.0</td>\n",
       "      <td>63.891125</td>\n",
       "      <td>0.452333</td>\n",
       "      <td>2.008020</td>\n",
       "      <td>82.640586</td>\n",
       "      <td>-16.760875</td>\n",
       "      <td>46.954879</td>\n",
       "      <td>807.002014</td>\n",
       "      <td>481.701958</td>\n",
       "    </tr>\n",
       "  </tbody>\n",
       "</table>\n",
       "<p>5 rows × 27 columns</p>\n",
       "</div>"
      ],
      "text/plain": [
       "     Coilnr   Date Direction Type  Th mm  Re02 Mpa  Rm Mpa  A80 x10%  C ppm  \\\n",
       "0  41971853  44202         L  I20   1.92     791.0  1058.0     107.0  813.0   \n",
       "1  41943566  44204         L  I20   1.01     690.0  1029.0     114.0  713.0   \n",
       "2  42071675  44205         L  I20   1.62     796.0  1037.0     106.0  758.0   \n",
       "3  42071668  44205         L  I20   1.62     745.0  1036.0     105.0  758.0   \n",
       "4  42071705  44206         L  I20   1.92     776.0  1006.0      95.0  735.0   \n",
       "\n",
       "   Mn ppm  ...  B ppm  Mo ppm  Linespeed (m/min)  SKP elongation (%)  \\\n",
       "0   25430  ...   19.0   959.0          51.922714            0.395166   \n",
       "1   25290  ...   18.0   942.0         130.468628            0.453954   \n",
       "2   25530  ...   20.0   967.0          78.013863            0.394861   \n",
       "3   25530  ...   20.0   967.0          76.819946            0.394584   \n",
       "4   25686  ...   19.0   959.0          63.891125            0.452333   \n",
       "\n",
       "   Heating C/s 660 to 750  t_soaking_hot s  Cooling C/s  t_soaking_cold s  \\\n",
       "0                1.373933       101.689599   -13.559891         57.778181   \n",
       "1                3.771506        40.469499   -33.617532         22.994033   \n",
       "2                2.374375        67.680279   -21.721390         38.454704   \n",
       "3                2.412430        68.732149   -21.563130         39.052357   \n",
       "4                2.008020        82.640586   -16.760875         46.954879   \n",
       "\n",
       "   soaking_hot C  soaking_cold C  \n",
       "0     798.669830      487.601574  \n",
       "1     804.154785      497.245289  \n",
       "2     813.640350      484.193967  \n",
       "3     814.985870      481.330018  \n",
       "4     807.002014      481.701958  \n",
       "\n",
       "[5 rows x 27 columns]"
      ]
     },
     "execution_count": 4,
     "metadata": {},
     "output_type": "execute_result"
    }
   ],
   "source": [
    "df.head()"
   ]
  },
  {
   "cell_type": "code",
   "execution_count": 5,
   "metadata": {},
   "outputs": [
    {
     "data": {
      "text/html": [
       "<div>\n",
       "<style scoped>\n",
       "    .dataframe tbody tr th:only-of-type {\n",
       "        vertical-align: middle;\n",
       "    }\n",
       "\n",
       "    .dataframe tbody tr th {\n",
       "        vertical-align: top;\n",
       "    }\n",
       "\n",
       "    .dataframe thead th {\n",
       "        text-align: right;\n",
       "    }\n",
       "</style>\n",
       "<table border=\"1\" class=\"dataframe\">\n",
       "  <thead>\n",
       "    <tr style=\"text-align: right;\">\n",
       "      <th></th>\n",
       "      <th>Coilnr</th>\n",
       "      <th>Th mm</th>\n",
       "      <th>Re02 Mpa</th>\n",
       "      <th>Rm Mpa</th>\n",
       "      <th>A80 x10%</th>\n",
       "      <th>C ppm</th>\n",
       "      <th>Mn ppm</th>\n",
       "      <th>Si ppm</th>\n",
       "      <th>P ppm</th>\n",
       "      <th>S ppm</th>\n",
       "      <th>...</th>\n",
       "      <th>B ppm</th>\n",
       "      <th>Mo ppm</th>\n",
       "      <th>Linespeed (m/min)</th>\n",
       "      <th>SKP elongation (%)</th>\n",
       "      <th>Heating C/s 660 to 750</th>\n",
       "      <th>t_soaking_hot s</th>\n",
       "      <th>Cooling C/s</th>\n",
       "      <th>t_soaking_cold s</th>\n",
       "      <th>soaking_hot C</th>\n",
       "      <th>soaking_cold C</th>\n",
       "    </tr>\n",
       "  </thead>\n",
       "  <tbody>\n",
       "    <tr>\n",
       "      <th>count</th>\n",
       "      <td>2.964000e+03</td>\n",
       "      <td>2964.000000</td>\n",
       "      <td>2964.000000</td>\n",
       "      <td>2964.000000</td>\n",
       "      <td>2964.000000</td>\n",
       "      <td>2964.000000</td>\n",
       "      <td>2964.000000</td>\n",
       "      <td>2964.000000</td>\n",
       "      <td>2964.000000</td>\n",
       "      <td>2964.000000</td>\n",
       "      <td>...</td>\n",
       "      <td>2964.000000</td>\n",
       "      <td>2964.000000</td>\n",
       "      <td>2964.000000</td>\n",
       "      <td>2964.000000</td>\n",
       "      <td>2964.000000</td>\n",
       "      <td>2964.000000</td>\n",
       "      <td>2964.000000</td>\n",
       "      <td>2964.000000</td>\n",
       "      <td>2964.000000</td>\n",
       "      <td>2964.000000</td>\n",
       "    </tr>\n",
       "    <tr>\n",
       "      <th>mean</th>\n",
       "      <td>3.473532e+07</td>\n",
       "      <td>1.358609</td>\n",
       "      <td>709.068285</td>\n",
       "      <td>1015.518904</td>\n",
       "      <td>110.194332</td>\n",
       "      <td>735.547299</td>\n",
       "      <td>25188.498650</td>\n",
       "      <td>2577.463790</td>\n",
       "      <td>121.370767</td>\n",
       "      <td>12.600570</td>\n",
       "      <td>...</td>\n",
       "      <td>13.173547</td>\n",
       "      <td>940.263808</td>\n",
       "      <td>92.199148</td>\n",
       "      <td>0.230852</td>\n",
       "      <td>3.384521</td>\n",
       "      <td>75.491682</td>\n",
       "      <td>-29.724754</td>\n",
       "      <td>39.873906</td>\n",
       "      <td>801.362035</td>\n",
       "      <td>471.974046</td>\n",
       "    </tr>\n",
       "    <tr>\n",
       "      <th>std</th>\n",
       "      <td>2.882005e+07</td>\n",
       "      <td>0.306827</td>\n",
       "      <td>56.438319</td>\n",
       "      <td>27.338489</td>\n",
       "      <td>19.830441</td>\n",
       "      <td>26.451640</td>\n",
       "      <td>317.140302</td>\n",
       "      <td>135.378268</td>\n",
       "      <td>15.279024</td>\n",
       "      <td>8.286019</td>\n",
       "      <td>...</td>\n",
       "      <td>9.276500</td>\n",
       "      <td>46.746248</td>\n",
       "      <td>24.515861</td>\n",
       "      <td>0.136336</td>\n",
       "      <td>1.450914</td>\n",
       "      <td>41.525780</td>\n",
       "      <td>10.682716</td>\n",
       "      <td>17.590585</td>\n",
       "      <td>16.545501</td>\n",
       "      <td>15.777600</td>\n",
       "    </tr>\n",
       "    <tr>\n",
       "      <th>min</th>\n",
       "      <td>2.000010e+05</td>\n",
       "      <td>0.796000</td>\n",
       "      <td>465.000000</td>\n",
       "      <td>819.333333</td>\n",
       "      <td>0.000000</td>\n",
       "      <td>626.000000</td>\n",
       "      <td>24326.000000</td>\n",
       "      <td>2290.000000</td>\n",
       "      <td>64.000000</td>\n",
       "      <td>0.000000</td>\n",
       "      <td>...</td>\n",
       "      <td>0.000000</td>\n",
       "      <td>790.000000</td>\n",
       "      <td>40.851750</td>\n",
       "      <td>0.000000</td>\n",
       "      <td>0.969997</td>\n",
       "      <td>7.228916</td>\n",
       "      <td>-72.553050</td>\n",
       "      <td>19.518072</td>\n",
       "      <td>735.250000</td>\n",
       "      <td>384.000000</td>\n",
       "    </tr>\n",
       "    <tr>\n",
       "      <th>25%</th>\n",
       "      <td>2.599905e+05</td>\n",
       "      <td>1.070000</td>\n",
       "      <td>674.000000</td>\n",
       "      <td>997.161975</td>\n",
       "      <td>98.600000</td>\n",
       "      <td>718.000000</td>\n",
       "      <td>24934.000000</td>\n",
       "      <td>2511.000000</td>\n",
       "      <td>112.000000</td>\n",
       "      <td>6.000000</td>\n",
       "      <td>...</td>\n",
       "      <td>0.000000</td>\n",
       "      <td>919.000000</td>\n",
       "      <td>73.812725</td>\n",
       "      <td>0.100003</td>\n",
       "      <td>2.323900</td>\n",
       "      <td>51.387341</td>\n",
       "      <td>-35.946517</td>\n",
       "      <td>28.301887</td>\n",
       "      <td>795.000000</td>\n",
       "      <td>463.396105</td>\n",
       "    </tr>\n",
       "    <tr>\n",
       "      <th>50%</th>\n",
       "      <td>4.368330e+07</td>\n",
       "      <td>1.350000</td>\n",
       "      <td>703.850000</td>\n",
       "      <td>1015.000000</td>\n",
       "      <td>110.000000</td>\n",
       "      <td>732.000000</td>\n",
       "      <td>25190.000000</td>\n",
       "      <td>2563.000000</td>\n",
       "      <td>120.000000</td>\n",
       "      <td>11.000000</td>\n",
       "      <td>...</td>\n",
       "      <td>18.990000</td>\n",
       "      <td>946.000000</td>\n",
       "      <td>93.000000</td>\n",
       "      <td>0.191133</td>\n",
       "      <td>3.096570</td>\n",
       "      <td>62.553119</td>\n",
       "      <td>-27.473939</td>\n",
       "      <td>34.090909</td>\n",
       "      <td>806.778625</td>\n",
       "      <td>469.344200</td>\n",
       "    </tr>\n",
       "    <tr>\n",
       "      <th>75%</th>\n",
       "      <td>4.706050e+07</td>\n",
       "      <td>1.580000</td>\n",
       "      <td>745.000000</td>\n",
       "      <td>1033.000000</td>\n",
       "      <td>121.000000</td>\n",
       "      <td>754.000000</td>\n",
       "      <td>25390.000000</td>\n",
       "      <td>2624.000000</td>\n",
       "      <td>130.000000</td>\n",
       "      <td>18.000000</td>\n",
       "      <td>...</td>\n",
       "      <td>20.000000</td>\n",
       "      <td>971.000000</td>\n",
       "      <td>110.666154</td>\n",
       "      <td>0.392045</td>\n",
       "      <td>4.129195</td>\n",
       "      <td>81.529066</td>\n",
       "      <td>-21.759140</td>\n",
       "      <td>43.386590</td>\n",
       "      <td>811.488234</td>\n",
       "      <td>482.888554</td>\n",
       "    </tr>\n",
       "    <tr>\n",
       "      <th>max</th>\n",
       "      <td>9.265894e+07</td>\n",
       "      <td>2.076000</td>\n",
       "      <td>936.000000</td>\n",
       "      <td>1112.400000</td>\n",
       "      <td>191.000000</td>\n",
       "      <td>850.000000</td>\n",
       "      <td>26220.000000</td>\n",
       "      <td>3629.000000</td>\n",
       "      <td>182.000000</td>\n",
       "      <td>40.000000</td>\n",
       "      <td>...</td>\n",
       "      <td>33.666667</td>\n",
       "      <td>1136.000000</td>\n",
       "      <td>148.000000</td>\n",
       "      <td>1.370000</td>\n",
       "      <td>18.697776</td>\n",
       "      <td>248.936170</td>\n",
       "      <td>-10.824876</td>\n",
       "      <td>111.702128</td>\n",
       "      <td>851.462820</td>\n",
       "      <td>528.992000</td>\n",
       "    </tr>\n",
       "  </tbody>\n",
       "</table>\n",
       "<p>8 rows × 24 columns</p>\n",
       "</div>"
      ],
      "text/plain": [
       "             Coilnr        Th mm     Re02 Mpa       Rm Mpa     A80 x10%  \\\n",
       "count  2.964000e+03  2964.000000  2964.000000  2964.000000  2964.000000   \n",
       "mean   3.473532e+07     1.358609   709.068285  1015.518904   110.194332   \n",
       "std    2.882005e+07     0.306827    56.438319    27.338489    19.830441   \n",
       "min    2.000010e+05     0.796000   465.000000   819.333333     0.000000   \n",
       "25%    2.599905e+05     1.070000   674.000000   997.161975    98.600000   \n",
       "50%    4.368330e+07     1.350000   703.850000  1015.000000   110.000000   \n",
       "75%    4.706050e+07     1.580000   745.000000  1033.000000   121.000000   \n",
       "max    9.265894e+07     2.076000   936.000000  1112.400000   191.000000   \n",
       "\n",
       "             C ppm        Mn ppm       Si ppm        P ppm        S ppm  ...  \\\n",
       "count  2964.000000   2964.000000  2964.000000  2964.000000  2964.000000  ...   \n",
       "mean    735.547299  25188.498650  2577.463790   121.370767    12.600570  ...   \n",
       "std      26.451640    317.140302   135.378268    15.279024     8.286019  ...   \n",
       "min     626.000000  24326.000000  2290.000000    64.000000     0.000000  ...   \n",
       "25%     718.000000  24934.000000  2511.000000   112.000000     6.000000  ...   \n",
       "50%     732.000000  25190.000000  2563.000000   120.000000    11.000000  ...   \n",
       "75%     754.000000  25390.000000  2624.000000   130.000000    18.000000  ...   \n",
       "max     850.000000  26220.000000  3629.000000   182.000000    40.000000  ...   \n",
       "\n",
       "             B ppm       Mo ppm  Linespeed (m/min)  SKP elongation (%)  \\\n",
       "count  2964.000000  2964.000000        2964.000000         2964.000000   \n",
       "mean     13.173547   940.263808          92.199148            0.230852   \n",
       "std       9.276500    46.746248          24.515861            0.136336   \n",
       "min       0.000000   790.000000          40.851750            0.000000   \n",
       "25%       0.000000   919.000000          73.812725            0.100003   \n",
       "50%      18.990000   946.000000          93.000000            0.191133   \n",
       "75%      20.000000   971.000000         110.666154            0.392045   \n",
       "max      33.666667  1136.000000         148.000000            1.370000   \n",
       "\n",
       "       Heating C/s 660 to 750  t_soaking_hot s  Cooling C/s  t_soaking_cold s  \\\n",
       "count             2964.000000      2964.000000  2964.000000       2964.000000   \n",
       "mean                 3.384521        75.491682   -29.724754         39.873906   \n",
       "std                  1.450914        41.525780    10.682716         17.590585   \n",
       "min                  0.969997         7.228916   -72.553050         19.518072   \n",
       "25%                  2.323900        51.387341   -35.946517         28.301887   \n",
       "50%                  3.096570        62.553119   -27.473939         34.090909   \n",
       "75%                  4.129195        81.529066   -21.759140         43.386590   \n",
       "max                 18.697776       248.936170   -10.824876        111.702128   \n",
       "\n",
       "       soaking_hot C  soaking_cold C  \n",
       "count    2964.000000     2964.000000  \n",
       "mean      801.362035      471.974046  \n",
       "std        16.545501       15.777600  \n",
       "min       735.250000      384.000000  \n",
       "25%       795.000000      463.396105  \n",
       "50%       806.778625      469.344200  \n",
       "75%       811.488234      482.888554  \n",
       "max       851.462820      528.992000  \n",
       "\n",
       "[8 rows x 24 columns]"
      ]
     },
     "execution_count": 5,
     "metadata": {},
     "output_type": "execute_result"
    }
   ],
   "source": [
    "df.describe()"
   ]
  },
  {
   "cell_type": "code",
   "execution_count": 6,
   "metadata": {},
   "outputs": [
    {
     "name": "stdout",
     "output_type": "stream",
     "text": [
      "<class 'pandas.core.frame.DataFrame'>\n",
      "RangeIndex: 2964 entries, 0 to 2963\n",
      "Data columns (total 27 columns):\n",
      " #   Column                  Non-Null Count  Dtype  \n",
      "---  ------                  --------------  -----  \n",
      " 0   Coilnr                  2964 non-null   int64  \n",
      " 1   Date                    2964 non-null   object \n",
      " 2   Direction               2964 non-null   object \n",
      " 3   Type                    2964 non-null   object \n",
      " 4   Th mm                   2964 non-null   float64\n",
      " 5   Re02 Mpa                2964 non-null   float64\n",
      " 6   Rm Mpa                  2964 non-null   float64\n",
      " 7   A80 x10%                2964 non-null   float64\n",
      " 8   C ppm                   2964 non-null   float64\n",
      " 9   Mn ppm                  2964 non-null   int64  \n",
      " 10  Si ppm                  2964 non-null   float64\n",
      " 11  P ppm                   2964 non-null   float64\n",
      " 12  S ppm                   2964 non-null   float64\n",
      " 13  Al ppm                  2964 non-null   float64\n",
      " 14  Ti ppm                  2964 non-null   float64\n",
      " 15  Cr ppm                  2964 non-null   float64\n",
      " 16  Nb ppm                  2964 non-null   float64\n",
      " 17  B ppm                   2964 non-null   float64\n",
      " 18  Mo ppm                  2964 non-null   float64\n",
      " 19  Linespeed (m/min)       2964 non-null   float64\n",
      " 20  SKP elongation (%)      2964 non-null   float64\n",
      " 21  Heating C/s 660 to 750  2964 non-null   float64\n",
      " 22  t_soaking_hot s         2964 non-null   float64\n",
      " 23  Cooling C/s             2964 non-null   float64\n",
      " 24  t_soaking_cold s        2964 non-null   float64\n",
      " 25  soaking_hot C           2964 non-null   float64\n",
      " 26  soaking_cold C          2964 non-null   float64\n",
      "dtypes: float64(22), int64(2), object(3)\n",
      "memory usage: 625.3+ KB\n"
     ]
    }
   ],
   "source": [
    "df.info()"
   ]
  },
  {
   "cell_type": "markdown",
   "metadata": {},
   "source": [
    "# Separation du dataset en train-set et test-set"
   ]
  },
  {
   "cell_type": "code",
   "execution_count": 7,
   "metadata": {},
   "outputs": [],
   "source": [
    "# Integrer deux nouveaux fichiers, essayer sans prendre la vitesse de ligne, sans le sens transverse... Montrer les mêmes graphs\n",
    "# Penser aussi à retirer coilnumber\n",
    "# Optimiser les réseaux de neurones\n",
    "\n",
    "# Ajouter les deux lignes + relancer tous les entrainements\n",
    "# Faire un tableau qui resume les résultats en fonction des algos et features\n",
    "# Ajouter d'autres modeles de ML + viz des features importances\n",
    "# Faire du wrapper ou filtre multivarié par lignes\n",
    "# Faire un script de moyennes\n",
    "\n",
    "\n",
    "# Application des filtres\n",
    "filters = df[[\"Date\", \"Direction\", \"Type\", \"Coilnr\"]]\n",
    "\n",
    "if FILTER_DIRECTION:\n",
    "    df = df[ df.Direction == 'L']\n",
    "\n",
    "target_re02 = df[[\"Re02 Mpa\"]]\n",
    "target_rm = df[[\"Rm Mpa\"]]\n",
    "target_A = df[[\"A80 x10%\"]]\n",
    "\n",
    "features = df.drop(target_A + target_re02 + target_rm + filters ,axis=1)\n",
    "\n"
   ]
  },
  {
   "cell_type": "code",
   "execution_count": 8,
   "metadata": {},
   "outputs": [
    {
     "data": {
      "text/plain": [
       "554"
      ]
     },
     "execution_count": 8,
     "metadata": {},
     "output_type": "execute_result"
    }
   ],
   "source": [
    "len(np.where(df.Direction == 'T')[0])"
   ]
  },
  {
   "cell_type": "code",
   "execution_count": 9,
   "metadata": {},
   "outputs": [
    {
     "name": "stdout",
     "output_type": "stream",
     "text": [
      "(2371, 20) (593, 20) (2371,) (593,)\n"
     ]
    }
   ],
   "source": [
    "from sklearn.model_selection import train_test_split\n",
    "\n",
    "# Séparation du dataset en train et test\n",
    "X_train,X_test,Y_train_rm,Y_test_rm = train_test_split(features,target_rm,test_size=0.20,random_state=0)\n",
    "Y_train_rm = Y_train_rm.values.ravel()\n",
    "Y_test_rm = Y_test_rm.values.ravel()\n",
    "\n",
    "X_train_re02,X_test_re02,Y_train_re02,Y_test_re02 = train_test_split(features,target_re02,test_size=0.20,random_state=0)\n",
    "Y_train_re02 = Y_train_re02.values.ravel()\n",
    "Y_test_re02 = Y_test_re02.values.ravel()\n",
    "\n",
    "X_train_A,X_test_A,Y_train_A,Y_test_A = train_test_split(features,target_A,test_size=0.20,random_state=0)\n",
    "Y_train_A = Y_train_A.values.ravel()\n",
    "Y_test_A = Y_test_A.values.ravel()\n",
    "\n",
    "print(X_train.shape, X_test.shape, Y_train_rm.shape, Y_test_rm.shape)"
   ]
  },
  {
   "cell_type": "code",
   "execution_count": 10,
   "metadata": {},
   "outputs": [
    {
     "name": "stdout",
     "output_type": "stream",
     "text": [
      "[[-1.13169184  0.66073076  1.93970431 ... -0.91424964  0.84743947\n",
      "   0.76318624]\n",
      " [-1.16427317 -0.05239179 -1.18580499 ... -0.82204103  0.55351632\n",
      "  -0.61588032]\n",
      " [-1.78331847 -0.54031775 -1.14841106 ... -0.87722297  0.60095596\n",
      "  -0.29230693]\n",
      " ...\n",
      " [-0.93620385 -0.20252286 -1.02064847 ... -0.63158607  0.25670072\n",
      "  -0.67677634]\n",
      " [-1.46462209  0.77332906 -0.39741631 ... -0.9451468  -0.30107951\n",
      "  -0.00343608]\n",
      " [-0.99485025  0.69826353  0.49068953 ... -0.93477882 -0.42781691\n",
      "   0.35958519]]\n",
      "[[ 0.4256958   1.74918098  0.28813908 ... -0.184491   -1.15537075\n",
      "   1.28303249]\n",
      " [ 2.09385997 -0.35265392  0.03884621 ...  1.76797973 -2.3542002\n",
      "  -0.87780239]\n",
      " [-1.45750516 -0.54031775  0.59975516 ... -1.0157763   0.88270584\n",
      "   0.6767703 ]\n",
      " ...\n",
      " [-1.16427317 -0.35302925 -0.05463861 ...  0.91740539 -1.40997619\n",
      "  -0.36919115]\n",
      " [ 0.02494542  0.77332906 -0.27276987 ... -0.25817655  1.60724595\n",
      "   0.6018113 ]\n",
      " [ 0.13898008  0.623198    0.56859355 ... -0.36216138  0.54440517\n",
      "  -0.30185483]]\n"
     ]
    }
   ],
   "source": [
    "from sklearn.preprocessing import MinMaxScaler, StandardScaler\n",
    "scaler = StandardScaler()\n",
    "\n",
    "X_train = scaler.fit_transform(X_train)\n",
    "\n",
    "X_test = scaler.transform(X_test)\n",
    "\n",
    "print(X_train)\n",
    "print(X_test)"
   ]
  },
  {
   "cell_type": "markdown",
   "metadata": {},
   "source": [
    "# Modele de Régression"
   ]
  },
  {
   "cell_type": "markdown",
   "metadata": {},
   "source": [
    "## Importation des métriques"
   ]
  },
  {
   "cell_type": "code",
   "execution_count": 11,
   "metadata": {},
   "outputs": [],
   "source": [
    "from sklearn.metrics import r2_score, mean_squared_error"
   ]
  },
  {
   "cell_type": "markdown",
   "metadata": {},
   "source": [
    "## Random Forest"
   ]
  },
  {
   "cell_type": "markdown",
   "metadata": {},
   "source": [
    "### Prédiction de la résistance mécanique $R_m$"
   ]
  },
  {
   "cell_type": "code",
   "execution_count": 12,
   "metadata": {},
   "outputs": [
    {
     "name": "stdout",
     "output_type": "stream",
     "text": [
      "0.983305126919707\n",
      "0.5750913345962396\n",
      "(593,)\n",
      "(593,)\n",
      "R2_score :  0.5750913345962396\n",
      "MSE :  321.3293963115807\n",
      "RMSE :  17.925663064767804\n"
     ]
    }
   ],
   "source": [
    "from sklearn.ensemble import GradientBoostingRegressor\n",
    "from sklearn.model_selection import GridSearchCV\n",
    "\n",
    "rfr = GradientBoostingRegressor()\n",
    "\n",
    "\n",
    "\n",
    "if APPLY_GRIDSEARCH:\n",
    "    param_grid = { \n",
    "                \"min_samples_split\" : np.arange(4, 8, 2),\n",
    "                'max_depth': np.arange(20, 28, 1),\n",
    "                'max_features': np.arange(10, 20, 1),\n",
    "                'n_estimators': np.arange(70, 120, 5),\n",
    "                }\n",
    "\n",
    "    rfr_cv = GridSearchCV(rfr, param_grid=param_grid, n_jobs=-1, cv=5, verbose=2)\n",
    "    rfr_cv.fit(X_train, Y_train_rm)\n",
    "    print(rfr_cv.best_estimator_, rfr_cv.best_params_, rfr_cv.best_score_)\n",
    "    \n",
    "    rfr = rfr_cv.best_estimator_\n",
    "    \n",
    "else:\n",
    "    rfr = GradientBoostingRegressor( \n",
    "                                    learning_rate=0.1,\n",
    "                                max_depth=23, \n",
    "                                max_features=11,\n",
    "                                min_samples_split=6, \n",
    "                                n_estimators=110, \n",
    "                                )\n",
    "\n",
    "rfr.fit(X_train, Y_train_rm)\n",
    "print(rfr.score(X_train, Y_train_rm))\n",
    "print(rfr.score(X_test, Y_test_rm))\n",
    "\n",
    "\n",
    "Y_pred_rfr = rfr.predict(X_test)\n",
    "print(Y_pred_rfr.shape)\n",
    "print(Y_test_rm.shape)\n",
    "\n",
    "r2_rm   = r2_score(Y_test_rm, Y_pred_rfr)\n",
    "mse_rm  = mean_squared_error(Y_test_rm, Y_pred_rfr)\n",
    "rmse_rm = mse_rm**(.5)\n",
    "\n",
    "\n",
    "print(\"R2_score : \", r2_rm)\n",
    "print(\"MSE : \", mse_rm)\n",
    "print(\"RMSE : \", rmse_rm)\n"
   ]
  },
  {
   "cell_type": "code",
   "execution_count": 13,
   "metadata": {},
   "outputs": [],
   "source": [
    "if APPLY_GRIDSEARCH:\n",
    "    print(rfr_cv.best_estimator_, rfr_cv.best_params_, rfr_cv.best_score_)"
   ]
  },
  {
   "cell_type": "code",
   "execution_count": 14,
   "metadata": {},
   "outputs": [
    {
     "data": {
      "image/png": "[encoded data removed]",
      "text/plain": [
       "<Figure size 432x288 with 1 Axes>"
      ]
     },
     "metadata": {
      "needs_background": "light"
     },
     "output_type": "display_data"
    }
   ],
   "source": [
    "plt.title(\"Random Forest : $R_{m}$ prédit en fonction de $R_{m}$ réel\")\n",
    "plt.plot( Y_test_rm, Y_pred_rfr, 'o', label = \"Données prédites\")\n",
    "plt.plot([min(Y_test_rm),max(Y_test_rm)], [min(Y_test_rm),max(Y_test_rm)], 'r', label = \"Droite y=x\")\n",
    "plt.legend()\n",
    "plt.xlabel(\"Données réelles\")\n",
    "plt.ylabel(\"Données prédites\")\n",
    "plt.text(x= max(Y_test_rm), y = min(Y_pred_rfr) + 20, s=\"R2=\" + str(round(r2_rm,3)), horizontalalignment='right',\n",
    "     verticalalignment='center')\n",
    "plt.text(x= max(Y_test_rm), y = min(Y_pred_rfr) + 10, s=\"MSE=\" + str(round(mse_rm,3)), horizontalalignment='right',\n",
    "     verticalalignment='center')\n",
    "plt.text(x= max(Y_test_rm), y = min(Y_pred_rfr), s=\"RMSE=\" + str(round(rmse_rm,3)), horizontalalignment='right',\n",
    "     verticalalignment='center')\n",
    "plt.show()"
   ]
  },
  {
   "cell_type": "markdown",
   "metadata": {},
   "source": [
    "### Affichage des features"
   ]
  },
  {
   "cell_type": "code",
   "execution_count": 15,
   "metadata": {},
   "outputs": [
    {
     "name": "stdout",
     "output_type": "stream",
     "text": [
      "[0.02869095 0.14972277 0.04965534 0.0520681  0.03044614 0.01955896\n",
      " 0.0264007  0.0346913  0.03107775 0.04579955 0.01087349 0.0299118\n",
      " 0.03339384 0.06187456 0.09776335 0.03866896 0.03756035 0.05527275\n",
      " 0.10783033 0.05873899]\n",
      "\n",
      " Feature ranking\n",
      "1 C ppm \t 0.1497227713227267\n",
      "2 soaking_hot C \t 0.10783033478549839\n",
      "3 Heating C/s 660 to 750 \t 0.09776335078374168\n",
      "4 SKP elongation (%) \t 0.06187456382583769\n",
      "5 soaking_cold C \t 0.058738989637260035\n",
      "6 t_soaking_cold s \t 0.05527275323135423\n",
      "7 Si ppm \t 0.05206810175459151\n",
      "8 Mn ppm \t 0.049655335846048296\n",
      "9 Nb ppm \t 0.045799545370134115\n",
      "10 t_soaking_hot s \t 0.038668959703285294\n",
      "11 Cooling C/s \t 0.03756035256579709\n",
      "12 Ti ppm \t 0.0346912984889375\n",
      "13 Linespeed (m/min) \t 0.03339383933204176\n",
      "14 Cr ppm \t 0.031077748726694106\n",
      "15 P ppm \t 0.03044614155584725\n",
      "16 Mo ppm \t 0.029911804748733024\n",
      "17 Th mm \t 0.02869094962661135\n",
      "18 Al ppm \t 0.02640070245204167\n",
      "19 S ppm \t 0.01955896364094247\n",
      "20 B ppm \t 0.010873492601875886\n"
     ]
    },
    {
     "data": {
      "image/png": "[encoded data removed]",
      "text/plain": [
       "<Figure size 1080x576 with 1 Axes>"
      ]
     },
     "metadata": {
      "needs_background": "light"
     },
     "output_type": "display_data"
    }
   ],
   "source": [
    "importances = rfr.feature_importances_\n",
    "print(importances)\n",
    "indices = np.argsort(importances)[::-1]\n",
    "feature_names = features.columns\n",
    "# Print the feature ranking\n",
    "print(\"\\n Feature ranking\")\n",
    " \n",
    "for f in range(X_train.shape[1]):\n",
    "    print(f+1, feature_names[indices[f]],'\\t', importances[indices[f]])\n",
    " \n",
    "# Plot the feature importances of the forest\n",
    "plt.figure(figsize=(15,8))\n",
    "plt.title(\"Feature importances: $R_{m}$\")\n",
    "plt.bar(range(X_train.shape[1]), importances[indices],\n",
    "       color=\"r\")\n",
    "plt.xticks(range(X_train.shape[1]), [feature_names[i] for i in indices], rotation='vertical')\n",
    "plt.xlim([-1, len(importances)])\n",
    "plt.show()"
   ]
  },
  {
   "cell_type": "markdown",
   "metadata": {},
   "source": [
    "### Affichage de l'arbre"
   ]
  },
  {
   "cell_type": "code",
   "execution_count": 31,
   "metadata": {},
   "outputs": [
    {
     "name": "stdout",
     "output_type": "stream",
     "text": [
      "Collecting graphviz\n",
      "  Using cached graphviz-0.19.1-py3-none-any.whl (46 kB)\n",
      "Installing collected packages: graphviz\n",
      "Successfully installed graphviz-0.19.1\n"
     ]
    }
   ],
   "source": [
    "!pip3 install graphviz"
   ]
  },
  {
   "cell_type": "code",
   "execution_count": 34,
   "metadata": {},
   "outputs": [
    {
     "ename": "AttributeError",
     "evalue": "'GradientBoostingRegressor' object has no attribute 'tree_'",
     "output_type": "error",
     "traceback": [
      "\u001b[0;31m---------------------------------------------------------------------------\u001b[0m",
      "\u001b[0;31mAttributeError\u001b[0m                            Traceback (most recent call last)",
      "\u001b[0;32m<ipython-input-34-1b7f78133c17>\u001b[0m in \u001b[0;36m<module>\u001b[0;34m\u001b[0m\n\u001b[1;32m      2\u001b[0m \u001b[0;34m\u001b[0m\u001b[0m\n\u001b[1;32m      3\u001b[0m \u001b[0mplt\u001b[0m\u001b[0;34m.\u001b[0m\u001b[0mfigure\u001b[0m\u001b[0;34m(\u001b[0m\u001b[0mfigsize\u001b[0m\u001b[0;34m=\u001b[0m\u001b[0;34m(\u001b[0m\u001b[0;36m30\u001b[0m\u001b[0;34m,\u001b[0m\u001b[0;36m15\u001b[0m\u001b[0;34m)\u001b[0m\u001b[0;34m)\u001b[0m\u001b[0;34m\u001b[0m\u001b[0;34m\u001b[0m\u001b[0m\n\u001b[0;32m----> 4\u001b[0;31m \u001b[0m_\u001b[0m \u001b[0;34m=\u001b[0m \u001b[0mtree\u001b[0m\u001b[0;34m.\u001b[0m\u001b[0mplot_tree\u001b[0m\u001b[0;34m(\u001b[0m\u001b[0mrfr\u001b[0m\u001b[0;34m,\u001b[0m \u001b[0mfeature_names\u001b[0m\u001b[0;34m=\u001b[0m\u001b[0mfeatures\u001b[0m\u001b[0;34m.\u001b[0m\u001b[0mcolumns\u001b[0m\u001b[0;34m,\u001b[0m \u001b[0mfilled\u001b[0m\u001b[0;34m=\u001b[0m\u001b[0;32mTrue\u001b[0m\u001b[0;34m,\u001b[0m \u001b[0mrounded\u001b[0m\u001b[0;34m=\u001b[0m\u001b[0;32mTrue\u001b[0m \u001b[0;34m)\u001b[0m\u001b[0;34m\u001b[0m\u001b[0;34m\u001b[0m\u001b[0m\n\u001b[0m",
      "\u001b[0;32m/opt/anaconda3/lib/python3.8/site-packages/sklearn/utils/validation.py\u001b[0m in \u001b[0;36minner_f\u001b[0;34m(*args, **kwargs)\u001b[0m\n\u001b[1;32m     70\u001b[0m                           FutureWarning)\n\u001b[1;32m     71\u001b[0m         \u001b[0mkwargs\u001b[0m\u001b[0;34m.\u001b[0m\u001b[0mupdate\u001b[0m\u001b[0;34m(\u001b[0m\u001b[0;34m{\u001b[0m\u001b[0mk\u001b[0m\u001b[0;34m:\u001b[0m \u001b[0marg\u001b[0m \u001b[0;32mfor\u001b[0m \u001b[0mk\u001b[0m\u001b[0;34m,\u001b[0m \u001b[0marg\u001b[0m \u001b[0;32min\u001b[0m \u001b[0mzip\u001b[0m\u001b[0;34m(\u001b[0m\u001b[0msig\u001b[0m\u001b[0;34m.\u001b[0m\u001b[0mparameters\u001b[0m\u001b[0;34m,\u001b[0m \u001b[0margs\u001b[0m\u001b[0;34m)\u001b[0m\u001b[0;34m}\u001b[0m\u001b[0;34m)\u001b[0m\u001b[0;34m\u001b[0m\u001b[0;34m\u001b[0m\u001b[0m\n\u001b[0;32m---> 72\u001b[0;31m         \u001b[0;32mreturn\u001b[0m \u001b[0mf\u001b[0m\u001b[0;34m(\u001b[0m\u001b[0;34m**\u001b[0m\u001b[0mkwargs\u001b[0m\u001b[0;34m)\u001b[0m\u001b[0;34m\u001b[0m\u001b[0;34m\u001b[0m\u001b[0m\n\u001b[0m\u001b[1;32m     73\u001b[0m     \u001b[0;32mreturn\u001b[0m \u001b[0minner_f\u001b[0m\u001b[0;34m\u001b[0m\u001b[0;34m\u001b[0m\u001b[0m\n\u001b[1;32m     74\u001b[0m \u001b[0;34m\u001b[0m\u001b[0m\n",
      "\u001b[0;32m/opt/anaconda3/lib/python3.8/site-packages/sklearn/tree/_export.py\u001b[0m in \u001b[0;36mplot_tree\u001b[0;34m(decision_tree, max_depth, feature_names, class_names, label, filled, impurity, node_ids, proportion, rotate, rounded, precision, ax, fontsize)\u001b[0m\n\u001b[1;32m    191\u001b[0m         \u001b[0mproportion\u001b[0m\u001b[0;34m=\u001b[0m\u001b[0mproportion\u001b[0m\u001b[0;34m,\u001b[0m \u001b[0mrotate\u001b[0m\u001b[0;34m=\u001b[0m\u001b[0mrotate\u001b[0m\u001b[0;34m,\u001b[0m \u001b[0mrounded\u001b[0m\u001b[0;34m=\u001b[0m\u001b[0mrounded\u001b[0m\u001b[0;34m,\u001b[0m\u001b[0;34m\u001b[0m\u001b[0;34m\u001b[0m\u001b[0m\n\u001b[1;32m    192\u001b[0m         precision=precision, fontsize=fontsize)\n\u001b[0;32m--> 193\u001b[0;31m     \u001b[0;32mreturn\u001b[0m \u001b[0mexporter\u001b[0m\u001b[0;34m.\u001b[0m\u001b[0mexport\u001b[0m\u001b[0;34m(\u001b[0m\u001b[0mdecision_tree\u001b[0m\u001b[0;34m,\u001b[0m \u001b[0max\u001b[0m\u001b[0;34m=\u001b[0m\u001b[0max\u001b[0m\u001b[0;34m)\u001b[0m\u001b[0;34m\u001b[0m\u001b[0;34m\u001b[0m\u001b[0m\n\u001b[0m\u001b[1;32m    194\u001b[0m \u001b[0;34m\u001b[0m\u001b[0m\n\u001b[1;32m    195\u001b[0m \u001b[0;34m\u001b[0m\u001b[0m\n",
      "\u001b[0;32m/opt/anaconda3/lib/python3.8/site-packages/sklearn/tree/_export.py\u001b[0m in \u001b[0;36mexport\u001b[0;34m(self, decision_tree, ax)\u001b[0m\n\u001b[1;32m    582\u001b[0m         \u001b[0max\u001b[0m\u001b[0;34m.\u001b[0m\u001b[0mclear\u001b[0m\u001b[0;34m(\u001b[0m\u001b[0;34m)\u001b[0m\u001b[0;34m\u001b[0m\u001b[0;34m\u001b[0m\u001b[0m\n\u001b[1;32m    583\u001b[0m         \u001b[0max\u001b[0m\u001b[0;34m.\u001b[0m\u001b[0mset_axis_off\u001b[0m\u001b[0;34m(\u001b[0m\u001b[0;34m)\u001b[0m\u001b[0;34m\u001b[0m\u001b[0;34m\u001b[0m\u001b[0m\n\u001b[0;32m--> 584\u001b[0;31m         my_tree = self._make_tree(0, decision_tree.tree_,\n\u001b[0m\u001b[1;32m    585\u001b[0m                                   decision_tree.criterion)\n\u001b[1;32m    586\u001b[0m         \u001b[0mdraw_tree\u001b[0m \u001b[0;34m=\u001b[0m \u001b[0mbuchheim\u001b[0m\u001b[0;34m(\u001b[0m\u001b[0mmy_tree\u001b[0m\u001b[0;34m)\u001b[0m\u001b[0;34m\u001b[0m\u001b[0;34m\u001b[0m\u001b[0m\n",
      "\u001b[0;31mAttributeError\u001b[0m: 'GradientBoostingRegressor' object has no attribute 'tree_'"
     ]
    },
    {
     "data": {
      "image/png": "[encoded data removed]",
      "text/plain": [
       "<Figure size 2160x1080 with 1 Axes>"
      ]
     },
     "metadata": {
      "needs_background": "light"
     },
     "output_type": "display_data"
    }
   ],
   "source": [
    "from sklearn import tree\n",
    "\n",
    "plt.figure(figsize=(30,15))\n",
    "_ = tree.plot_tree(rfr, feature_names=features.columns, filled=True, rounded=True )\n"
   ]
  },
  {
   "cell_type": "markdown",
   "metadata": {},
   "source": [
    "### Prédiction de la résistance élastique à 0.2% $R_{e0.2}$"
   ]
  },
  {
   "cell_type": "code",
   "execution_count": 16,
   "metadata": {},
   "outputs": [
    {
     "name": "stdout",
     "output_type": "stream",
     "text": [
      "0.9664200861682758\n",
      "0.8143879234214146\n",
      "(593,)\n",
      "(593,)\n",
      "R2_score :  0.8143879234214146\n",
      "MSE :  617.4143909185522\n",
      "RMSE :  24.84782467176055\n"
     ]
    }
   ],
   "source": [
    "from sklearn.ensemble import ExtraTreesRegressor\n",
    "from sklearn.model_selection import GridSearchCV\n",
    "\n",
    "rfr_re02 = ExtraTreesRegressor(bootstrap=False, n_jobs=-1)\n",
    "\n",
    "if APPLY_GRIDSEARCH:\n",
    "    param_grid = { \n",
    "                \"min_samples_split\" : np.arange(4, 8, 2),\n",
    "                'max_depth': np.arange(20, 28, 1),\n",
    "                'max_features': np.arange(10, 20, 1),\n",
    "                'n_estimators': np.arange(70, 120, 5),\n",
    "                }\n",
    "\n",
    "    rfr_cv = GridSearchCV(rfr_re02, param_grid=param_grid, n_jobs=-1, cv=5, verbose=2)\n",
    "    rfr_cv.fit(X_train, Y_train_rm)\n",
    "    \n",
    "    print(rfr_cv.best_estimator_, rfr_cv.best_params_, rfr_cv.best_score_)\n",
    "    \n",
    "    rfr_re02 = rfr_cv.best_estimator_\n",
    "    \n",
    "else:\n",
    "    rfr_re02 = ExtraTreesRegressor(   bootstrap=False, \n",
    "                                    max_depth=23, \n",
    "                                    max_features=11,\n",
    "                                    min_samples_split=6, \n",
    "                                    n_estimators=110, \n",
    "                                    n_jobs=-1)\n",
    "\n",
    "\n",
    "\n",
    "\n",
    "rfr_re02.fit(X_train_re02, Y_train_re02)\n",
    "print(rfr_re02.score(X_train_re02, Y_train_re02))\n",
    "print(rfr_re02.score(X_test_re02, Y_test_re02))\n",
    "\n",
    "Y_pred_rfr_re02 = rfr_re02.predict(X_test_re02)\n",
    "print(Y_pred_rfr_re02.shape)\n",
    "print(Y_test_re02.shape)\n",
    "\n",
    "r2_re02   = r2_score(Y_test_re02, Y_pred_rfr_re02)\n",
    "mse_re02  = mean_squared_error(Y_test_re02, Y_pred_rfr_re02)\n",
    "rmse_re02 = mse_re02**(.5)\n",
    "\n",
    "print(\"R2_score : \", r2_re02)\n",
    "print(\"MSE : \", mse_re02)\n",
    "print(\"RMSE : \", rmse_re02)"
   ]
  },
  {
   "cell_type": "code",
   "execution_count": 17,
   "metadata": {},
   "outputs": [],
   "source": [
    "if APPLY_GRIDSEARCH:\n",
    "    print(rfr_cv.best_estimator_, rfr_cv.best_params_, rfr_cv.best_score_)"
   ]
  },
  {
   "cell_type": "code",
   "execution_count": 18,
   "metadata": {},
   "outputs": [
    {
     "data": {
      "image/png": "[encoded data removed]",
      "text/plain": [
       "<Figure size 432x288 with 1 Axes>"
      ]
     },
     "metadata": {
      "needs_background": "light"
     },
     "output_type": "display_data"
    }
   ],
   "source": [
    "plt.title(\"Random Forest : $R_{e0.2\\%}$ prédit en fonction de $R_{e0.2\\%}$ réel\")\n",
    "plt.plot(Y_test_re02, Y_pred_rfr_re02, 'o', label = \"Données prédites\")\n",
    "plt.xlabel(\"Données réelles\")\n",
    "plt.ylabel(\"Données prédites\")\n",
    "plt.plot([min(Y_test_re02),max(Y_test_re02)], [min(Y_test_re02),max(Y_test_re02)], 'r', label = \"Droite y=x\")\n",
    "plt.text(x= max(Y_test_re02), y = min(Y_pred_rfr_re02) + 30, s=\"R2=\" + str(round(r2_re02,3)), horizontalalignment='right',\n",
    "     verticalalignment='center')\n",
    "plt.text(x= max(Y_test_re02), y = min(Y_pred_rfr_re02) + 15, s=\"MSE=\" + str(round(mse_re02,3)), horizontalalignment='right',\n",
    "     verticalalignment='center')\n",
    "plt.text(x= max(Y_test_re02), y = min(Y_pred_rfr_re02), s=\"RMSE=\" + str(round(rmse_re02,3)), horizontalalignment='right',\n",
    "     verticalalignment='center')\n",
    "plt.legend()\n",
    "plt.show()"
   ]
  },
  {
   "cell_type": "markdown",
   "metadata": {},
   "source": [
    "### Affichage des features"
   ]
  },
  {
   "cell_type": "code",
   "execution_count": 19,
   "metadata": {},
   "outputs": [
    {
     "name": "stdout",
     "output_type": "stream",
     "text": [
      "[0.02706476 0.02629166 0.04872541 0.01417503 0.01241849 0.01110508\n",
      " 0.01318358 0.02540725 0.03894274 0.01180305 0.03466325 0.01461408\n",
      " 0.04321376 0.17855115 0.0287993  0.0285738  0.03736843 0.03238165\n",
      " 0.34303743 0.0296801 ]\n",
      "\n",
      " Feature ranking:\n",
      "1 soaking_hot C \t 0.3430374343810106\n",
      "2 SKP elongation (%) \t 0.17855114633701477\n",
      "3 Mn ppm \t 0.048725406072001994\n",
      "4 Linespeed (m/min) \t 0.04321376278403609\n",
      "5 Cr ppm \t 0.03894274176163136\n",
      "6 Cooling C/s \t 0.037368431235560245\n",
      "7 B ppm \t 0.03466325028692966\n",
      "8 t_soaking_cold s \t 0.03238165040121399\n",
      "9 soaking_cold C \t 0.02968010018076731\n",
      "10 Heating C/s 660 to 750 \t 0.028799303842038437\n",
      "11 t_soaking_hot s \t 0.028573803103415115\n",
      "12 Th mm \t 0.027064763402881612\n",
      "13 C ppm \t 0.026291659159827185\n",
      "14 Ti ppm \t 0.02540724520138296\n",
      "15 Mo ppm \t 0.014614079965937884\n",
      "16 Si ppm \t 0.01417502532883327\n",
      "17 Al ppm \t 0.013183575934129173\n",
      "18 P ppm \t 0.012418493100924397\n",
      "19 Nb ppm \t 0.011803049734649181\n",
      "20 S ppm \t 0.011105077785814928\n"
     ]
    },
    {
     "data": {
      "image/png": "[encoded data removed]",
      "text/plain": [
       "<Figure size 1080x576 with 1 Axes>"
      ]
     },
     "metadata": {
      "needs_background": "light"
     },
     "output_type": "display_data"
    }
   ],
   "source": [
    "importances = rfr_re02.feature_importances_\n",
    "print(importances)\n",
    "indices = np.argsort(importances)[::-1]\n",
    "feature_names = features.columns\n",
    "# Print the feature ranking\n",
    "print(\"\\n Feature ranking:\")\n",
    " \n",
    "for f in range(X_train.shape[1]):\n",
    "    print(f+1, feature_names[indices[f]],'\\t', importances[indices[f]])\n",
    " \n",
    "# Plot the feature importances of the forest\n",
    "plt.figure(figsize=(15,8))\n",
    "plt.title(\"Feature importances: $R_{e0.2\\%}$\")\n",
    "plt.bar(range(X_train.shape[1]), importances[indices],\n",
    "       color=\"r\")\n",
    "plt.xticks(range(X_train.shape[1]), [feature_names[i] for i in indices], rotation='vertical')\n",
    "plt.xlim([-1, len(importances)])\n",
    "plt.show()"
   ]
  },
  {
   "cell_type": "markdown",
   "metadata": {},
   "source": [
    "### Prédiction de l'allongement à la rupture $A_\\%$"
   ]
  },
  {
   "cell_type": "code",
   "execution_count": 20,
   "metadata": {},
   "outputs": [
    {
     "name": "stdout",
     "output_type": "stream",
     "text": [
      "0.9009193018089388\n",
      "0.45178803936963585\n",
      "(593,)\n",
      "(593,)\n",
      "R2_score :  0.45178803936963585\n",
      "MSE :  224.182111323289\n",
      "RMSE :  14.972712223351152\n"
     ]
    }
   ],
   "source": [
    "from sklearn.ensemble import ExtraTreesRegressor\n",
    "from sklearn.model_selection import GridSearchCV\n",
    "\n",
    "rfr_A = ExtraTreesRegressor(bootstrap=False, n_jobs=-1)\n",
    "\n",
    "if APPLY_GRIDSEARCH:\n",
    "    param_grid = { \n",
    "                \"min_samples_split\" : np.arange(4, 8, 2),\n",
    "                'max_depth': np.arange(20, 28, 1),\n",
    "                'max_features': np.arange(10, 20, 1),\n",
    "                'n_estimators': np.arange(70, 120, 5),\n",
    "                }\n",
    "\n",
    "    rfr_cv = GridSearchCV(rfr_A, param_grid=param_grid, n_jobs=-1, cv=5, verbose=2)\n",
    "    rfr_cv.fit(X_train, Y_train_rm)\n",
    "    \n",
    "    print(rfr_cv.best_estimator_, rfr_cv.best_params_, rfr_cv.best_score_)\n",
    "    \n",
    "    rfr_A = rfr_cv.best_estimator_\n",
    "    \n",
    "else:\n",
    "    rfr_A = ExtraTreesRegressor(  bootstrap=False, \n",
    "                                max_depth=21, \n",
    "                                max_features=10,\n",
    "                                min_samples_split=6, \n",
    "                                n_estimators=70, \n",
    "                                n_jobs=-1)\n",
    "\n",
    "\n",
    "\n",
    "\n",
    "rfr_A.fit(X_train_A, Y_train_A)\n",
    "print(rfr_A.score(X_train_A, Y_train_A))\n",
    "print(rfr_A.score(X_test_A, Y_test_A))\n",
    "\n",
    "Y_pred_rfr_A = rfr_A.predict(X_test_A)\n",
    "print(Y_pred_rfr_A.shape)\n",
    "print(Y_test_A.shape)\n",
    "\n",
    "\n",
    "r2_A   = r2_score(Y_test_A, Y_pred_rfr_A)\n",
    "mse_A  = mean_squared_error(Y_test_A, Y_pred_rfr_A)\n",
    "rmse_A = mse_A**(.5)\n",
    "\n",
    "print(\"R2_score : \", r2_A)\n",
    "print(\"MSE : \", mse_A)\n",
    "print(\"RMSE : \", rmse_A)"
   ]
  },
  {
   "cell_type": "code",
   "execution_count": 21,
   "metadata": {},
   "outputs": [],
   "source": [
    "if APPLY_GRIDSEARCH:\n",
    "    print(rfr_cv.best_estimator_, rfr_cv.best_params_, rfr_cv.best_score_)"
   ]
  },
  {
   "cell_type": "code",
   "execution_count": 22,
   "metadata": {},
   "outputs": [
    {
     "data": {
      "image/png": "[encoded data removed]",
      "text/plain": [
       "<Figure size 432x288 with 1 Axes>"
      ]
     },
     "metadata": {
      "needs_background": "light"
     },
     "output_type": "display_data"
    }
   ],
   "source": [
    "plt.title(\"Random Forest : $A_{\\%}$ prédit en fonction de $A_{\\%}$ réel\")\n",
    "plt.plot( Y_test_A, Y_pred_rfr_A, 'o',label = \"Données prédites\")\n",
    "plt.xlabel(\"Données réelles\")\n",
    "plt.ylabel(\"Données prédites\")\n",
    "plt.plot([min(Y_test_A),max(Y_test_A)], [min(Y_test_A),max(Y_test_A)], 'r', label = \"Droite y=x\")\n",
    "plt.text(x= max(Y_test_A), y = min(Y_pred_rfr_A) + 20, s=\"R2=\" + str(round(r2_A,3)), horizontalalignment='right',\n",
    "     verticalalignment='center')\n",
    "plt.text(x= max(Y_test_A), y = min(Y_pred_rfr_A) + 10, s=\"MSE=\" + str(round(mse_A,3)), horizontalalignment='right',\n",
    "     verticalalignment='center')\n",
    "plt.text(x= max(Y_test_A), y = min(Y_pred_rfr_A), s=\"RMSE=\" + str(round(rmse_A,3)), horizontalalignment='right',\n",
    "     verticalalignment='center')\n",
    "plt.legend()\n",
    "plt.show()"
   ]
  },
  {
   "cell_type": "markdown",
   "metadata": {},
   "source": [
    "### Affichage des features"
   ]
  },
  {
   "cell_type": "code",
   "execution_count": 23,
   "metadata": {},
   "outputs": [
    {
     "name": "stdout",
     "output_type": "stream",
     "text": [
      "[0.03983097 0.02180286 0.0336662  0.02017748 0.02074913 0.0251853\n",
      " 0.02207511 0.02817664 0.02675131 0.0201126  0.04277616 0.02521137\n",
      " 0.09490872 0.06350702 0.04811093 0.05606685 0.07228729 0.05007596\n",
      " 0.25278207 0.03574605]\n",
      "\n",
      " Feature ranking:\n",
      "1 soaking_hot C \t 0.252782066936177\n",
      "2 Linespeed (m/min) \t 0.09490871902213736\n",
      "3 Cooling C/s \t 0.07228729461637189\n",
      "4 SKP elongation (%) \t 0.06350701884275942\n",
      "5 t_soaking_hot s \t 0.056066848612077023\n",
      "6 t_soaking_cold s \t 0.05007595679543923\n",
      "7 Heating C/s 660 to 750 \t 0.04811093099616466\n",
      "8 B ppm \t 0.04277615544136537\n",
      "9 Th mm \t 0.03983097240782223\n",
      "10 soaking_cold C \t 0.03574604671965881\n",
      "11 Mn ppm \t 0.03366620033019052\n",
      "12 Ti ppm \t 0.028176637549424854\n",
      "13 Cr ppm \t 0.026751312540005363\n",
      "14 Mo ppm \t 0.025211369169744407\n",
      "15 S ppm \t 0.02518529857879483\n",
      "16 Al ppm \t 0.02207510629924755\n",
      "17 C ppm \t 0.021802856596462694\n",
      "18 P ppm \t 0.02074913168064328\n",
      "19 Si ppm \t 0.020177477746767064\n",
      "20 Nb ppm \t 0.020112599118746553\n"
     ]
    },
    {
     "data": {
      "image/png": "[encoded data removed]",
      "text/plain": [
       "<Figure size 1080x576 with 1 Axes>"
      ]
     },
     "metadata": {
      "needs_background": "light"
     },
     "output_type": "display_data"
    },
    {
     "name": "stdout",
     "output_type": "stream",
     "text": [
      "<class 'pandas.core.indexes.base.Index'>\n"
     ]
    }
   ],
   "source": [
    "importances = rfr_A.feature_importances_\n",
    "print(importances)\n",
    "indices = np.argsort(importances)[::-1]\n",
    "feature_names = features.columns\n",
    "# Print the feature ranking\n",
    "print(\"\\n Feature ranking:\")\n",
    " \n",
    "for f in range(X_train.shape[1]):\n",
    "    print(f+1, feature_names[indices[f]],'\\t', importances[indices[f]])\n",
    " \n",
    "# Plot the feature importances of the forest\n",
    "plt.figure(figsize=(15,8))\n",
    "plt.title(\"Feature importances: $A_{\\%}$ \")\n",
    "plt.bar(range(X_train.shape[1]), importances[indices],\n",
    "       color=\"r\")\n",
    "plt.xticks(range(X_train.shape[1]), [feature_names[i] for i in indices], rotation='vertical')\n",
    "plt.xlim([-1, len(importances)])\n",
    "plt.show()\n",
    "#df.corr()[\"Ti ppm\"]\n",
    "\n",
    "print(type(feature_names))"
   ]
  },
  {
   "cell_type": "markdown",
   "metadata": {},
   "source": [
    "# Enregistrement des modèles"
   ]
  },
  {
   "cell_type": "code",
   "execution_count": 24,
   "metadata": {},
   "outputs": [],
   "source": [
    "import pickle\n",
    "\n",
    "modele_path = \"./modeles/\"\n",
    "\n",
    "# now you can save it to a file\n",
    "with open(modele_path + 'random_forest_re02_3_upgrade.pkl', 'wb') as f:\n",
    "    pickle.dump(rfr_re02, f)\n",
    "\n",
    "with open(modele_path + 'random_forest_rm_3_upgrade.pkl', 'wb') as f:\n",
    "    pickle.dump(rfr, f)\n",
    "    \n",
    "with open(modele_path + 'random_forest_A_3_upgrade.pkl', 'wb') as f:\n",
    "    pickle.dump(rfr_A, f)  \n"
   ]
  },
  {
   "cell_type": "markdown",
   "metadata": {},
   "source": [
    "# Chargement des modèles"
   ]
  },
  {
   "cell_type": "code",
   "execution_count": 25,
   "metadata": {},
   "outputs": [
    {
     "name": "stdout",
     "output_type": "stream",
     "text": [
      "-------------------------\n",
      "Résistance mécanique Rm\n",
      "-------------------------\n",
      "Train:  0.983305126919707\n",
      "Test:  0.5750913345962396\n",
      "-------------------------\n",
      "Résistance élastique Re02\n",
      "-------------------------\n",
      "Train:  0.9664200861682758\n",
      "Test:  0.8143879234214146\n",
      "-------------------------\n",
      "Allongement à la rupture A%\n",
      "-------------------------\n",
      "Train:  0.9009193018089388\n",
      "Test:  0.45178803936963585\n"
     ]
    }
   ],
   "source": [
    "import pickle\n",
    "modele_path = \"./modeles/\"\n",
    "\n",
    "with open(modele_path + 'random_forest_rm_3_upgrade.pkl', 'rb') as f:\n",
    "    clf_rm = pickle.load(f)\n",
    "print(\"-------------------------\")\n",
    "print(\"Résistance mécanique Rm\")\n",
    "print(\"-------------------------\")\n",
    "print(\"Train: \",clf_rm.score(X_train, Y_train_rm))\n",
    "print(\"Test: \", clf_rm.score(X_test, Y_test_rm))\n",
    "\n",
    "with open(modele_path + 'random_forest_re02_3_upgrade.pkl', 'rb') as f:\n",
    "    clf_re02 = pickle.load(f)\n",
    "    \n",
    "print(\"-------------------------\")\n",
    "print(\"Résistance élastique Re02\")\n",
    "print(\"-------------------------\")\n",
    "print(\"Train: \", clf_re02.score(X_train_re02, Y_train_re02))\n",
    "print(\"Test: \", clf_re02.score(X_test_re02, Y_test_re02))\n",
    "\n",
    "with open(modele_path + 'random_forest_A_3_upgrade.pkl', 'rb') as f:\n",
    "    clf_A = pickle.load(f)\n",
    "print(\"-------------------------\")\n",
    "print(\"Allongement à la rupture A%\")\n",
    "print(\"-------------------------\")\n",
    "print(\"Train: \",clf_A.score(X_train_A, Y_train_A))\n",
    "print(\"Test: \", clf_A.score(X_test_A, Y_test_A))\n"
   ]
  },
  {
   "cell_type": "markdown",
   "metadata": {},
   "source": []
  }
 ],
 "metadata": {
  "interpreter": {
   "hash": "40d3a090f54c6569ab1632332b64b2c03c39dcf918b08424e98f38b5ae0af88f"
  },
  "kernelspec": {
   "display_name": "Python 3.8.5 64-bit ('base': conda)",
   "language": "python",
   "name": "python3"
  },
  "language_info": {
   "codemirror_mode": {
    "name": "ipython",
    "version": 3
   },
   "file_extension": ".py",
   "mimetype": "text/x-python",
   "name": "python",
   "nbconvert_exporter": "python",
   "pygments_lexer": "ipython3",
   "version": "3.8.5"
  },
  "orig_nbformat": 4
 },
 "nbformat": 4,
 "nbformat_minor": 2
}
