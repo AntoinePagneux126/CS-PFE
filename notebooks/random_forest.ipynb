{
 "cells": [
  {
   "cell_type": "markdown",
   "metadata": {},
   "source": [
    "# Importation des librairies"
   ]
  },
  {
   "cell_type": "code",
   "execution_count": 167,
   "metadata": {},
   "outputs": [
    {
     "name": "stdout",
     "output_type": "stream",
     "text": [
      "['example.py', 'notes.txt', 'notebook-gridsearch.ipynb', 'data', '.ipynb_checkpoints', 'random_forest.ipynb', 'Neural_Network_Pytorch.ipynb', 'modeles', 'HTML']\n"
     ]
    }
   ],
   "source": [
    "import numpy as np\n",
    "import pandas as pd\n",
    "import matplotlib.pyplot as plt\n",
    "import seaborn as sns\n",
    "import os\n",
    "\n",
    "%matplotlib inline\n",
    "data_path=\"data/\"\n",
    "print(os.listdir())"
   ]
  },
  {
   "cell_type": "markdown",
   "metadata": {},
   "source": [
    "# Chargement des données\n",
    "Utilisation d'une dataframe panda"
   ]
  },
  {
   "cell_type": "code",
   "execution_count": 168,
   "metadata": {},
   "outputs": [
    {
     "name": "stdout",
     "output_type": "stream",
     "text": [
      "DP980Y700_SDG3_2021.csv\n"
     ]
    }
   ],
   "source": [
    "data_files = os.listdir(data_path)\n",
    "if (len(data_files) != 0):\n",
    "    for datafile in data_files:\n",
    "        if (not datafile[0] == \".\"):\n",
    "            print(datafile)\n",
    "            df = pd.read_csv(data_path + datafile, delimiter =\";\", decimal=\",\")\n",
    "            break"
   ]
  },
  {
   "cell_type": "markdown",
   "metadata": {},
   "source": []
  },
  {
   "cell_type": "markdown",
   "metadata": {},
   "source": [
    "# Description des données"
   ]
  },
  {
   "cell_type": "code",
   "execution_count": 169,
   "metadata": {},
   "outputs": [
    {
     "data": {
      "text/html": [
       "<div>\n",
       "<style scoped>\n",
       "    .dataframe tbody tr th:only-of-type {\n",
       "        vertical-align: middle;\n",
       "    }\n",
       "\n",
       "    .dataframe tbody tr th {\n",
       "        vertical-align: top;\n",
       "    }\n",
       "\n",
       "    .dataframe thead th {\n",
       "        text-align: right;\n",
       "    }\n",
       "</style>\n",
       "<table border=\"1\" class=\"dataframe\">\n",
       "  <thead>\n",
       "    <tr style=\"text-align: right;\">\n",
       "      <th></th>\n",
       "      <th>Coilnr</th>\n",
       "      <th>Date</th>\n",
       "      <th>Direction</th>\n",
       "      <th>Th mm</th>\n",
       "      <th>Re02 Mpa</th>\n",
       "      <th>Rm Mpa</th>\n",
       "      <th>A80 x10%</th>\n",
       "      <th>n x1000</th>\n",
       "      <th>r x100</th>\n",
       "      <th>Re/Rm</th>\n",
       "      <th>...</th>\n",
       "      <th>Sn ppm</th>\n",
       "      <th>Mid Heating P1(C)</th>\n",
       "      <th>After Heating P2(C)</th>\n",
       "      <th>After Soaking     P3(C)</th>\n",
       "      <th>After rapid cooling P4(C)</th>\n",
       "      <th>Linespeed    (m/min)</th>\n",
       "      <th>Zink bottom  (gr/m2)</th>\n",
       "      <th>Zink top  (gr/m2)</th>\n",
       "      <th>SKP elongation      (%)</th>\n",
       "      <th>SKP Pressure          (kN)</th>\n",
       "    </tr>\n",
       "  </thead>\n",
       "  <tbody>\n",
       "    <tr>\n",
       "      <th>0</th>\n",
       "      <td>41971853</td>\n",
       "      <td>06-01-21</td>\n",
       "      <td>L</td>\n",
       "      <td>1.92</td>\n",
       "      <td>791</td>\n",
       "      <td>1058</td>\n",
       "      <td>107</td>\n",
       "      <td>63</td>\n",
       "      <td>68</td>\n",
       "      <td>75</td>\n",
       "      <td>...</td>\n",
       "      <td>29</td>\n",
       "      <td>676.178739</td>\n",
       "      <td>796.351746</td>\n",
       "      <td>800.987915</td>\n",
       "      <td>487.601574</td>\n",
       "      <td>51.922714</td>\n",
       "      <td>55.509306</td>\n",
       "      <td>54.877287</td>\n",
       "      <td>0.395166</td>\n",
       "      <td>8271.445498</td>\n",
       "    </tr>\n",
       "    <tr>\n",
       "      <th>1</th>\n",
       "      <td>41943566</td>\n",
       "      <td>08-01-21</td>\n",
       "      <td>L</td>\n",
       "      <td>1.01</td>\n",
       "      <td>690</td>\n",
       "      <td>1029</td>\n",
       "      <td>114</td>\n",
       "      <td>77</td>\n",
       "      <td>65</td>\n",
       "      <td>67</td>\n",
       "      <td>...</td>\n",
       "      <td>71</td>\n",
       "      <td>702.678408</td>\n",
       "      <td>801.863220</td>\n",
       "      <td>806.446350</td>\n",
       "      <td>497.245289</td>\n",
       "      <td>130.468628</td>\n",
       "      <td>60.863074</td>\n",
       "      <td>53.569768</td>\n",
       "      <td>0.453954</td>\n",
       "      <td>8263.117895</td>\n",
       "    </tr>\n",
       "    <tr>\n",
       "      <th>2</th>\n",
       "      <td>42071675</td>\n",
       "      <td>09-01-21</td>\n",
       "      <td>L</td>\n",
       "      <td>1.62</td>\n",
       "      <td>796</td>\n",
       "      <td>1037</td>\n",
       "      <td>106</td>\n",
       "      <td>60</td>\n",
       "      <td>67</td>\n",
       "      <td>77</td>\n",
       "      <td>...</td>\n",
       "      <td>25</td>\n",
       "      <td>702.122903</td>\n",
       "      <td>808.970886</td>\n",
       "      <td>818.309814</td>\n",
       "      <td>484.193967</td>\n",
       "      <td>78.013863</td>\n",
       "      <td>53.647423</td>\n",
       "      <td>53.234872</td>\n",
       "      <td>0.394861</td>\n",
       "      <td>7390.691312</td>\n",
       "    </tr>\n",
       "    <tr>\n",
       "      <th>3</th>\n",
       "      <td>42071668</td>\n",
       "      <td>09-01-21</td>\n",
       "      <td>L</td>\n",
       "      <td>1.62</td>\n",
       "      <td>745</td>\n",
       "      <td>1036</td>\n",
       "      <td>105</td>\n",
       "      <td>64</td>\n",
       "      <td>64</td>\n",
       "      <td>72</td>\n",
       "      <td>...</td>\n",
       "      <td>25</td>\n",
       "      <td>704.809447</td>\n",
       "      <td>811.805298</td>\n",
       "      <td>818.166443</td>\n",
       "      <td>481.330018</td>\n",
       "      <td>76.819946</td>\n",
       "      <td>53.221745</td>\n",
       "      <td>53.219945</td>\n",
       "      <td>0.394584</td>\n",
       "      <td>7435.146814</td>\n",
       "    </tr>\n",
       "    <tr>\n",
       "      <th>4</th>\n",
       "      <td>42071705</td>\n",
       "      <td>10-01-21</td>\n",
       "      <td>L</td>\n",
       "      <td>1.92</td>\n",
       "      <td>776</td>\n",
       "      <td>1006</td>\n",
       "      <td>95</td>\n",
       "      <td>62</td>\n",
       "      <td>68</td>\n",
       "      <td>77</td>\n",
       "      <td>...</td>\n",
       "      <td>26</td>\n",
       "      <td>693.695165</td>\n",
       "      <td>817.500122</td>\n",
       "      <td>796.503906</td>\n",
       "      <td>481.701958</td>\n",
       "      <td>63.891125</td>\n",
       "      <td>51.919579</td>\n",
       "      <td>54.494145</td>\n",
       "      <td>0.452333</td>\n",
       "      <td>6744.308326</td>\n",
       "    </tr>\n",
       "  </tbody>\n",
       "</table>\n",
       "<p>5 rows × 38 columns</p>\n",
       "</div>"
      ],
      "text/plain": [
       "     Coilnr      Date Direction  Th mm  Re02 Mpa  Rm Mpa  A80 x10%  n x1000  \\\n",
       "0  41971853  06-01-21         L   1.92       791    1058       107       63   \n",
       "1  41943566  08-01-21         L   1.01       690    1029       114       77   \n",
       "2  42071675  09-01-21         L   1.62       796    1037       106       60   \n",
       "3  42071668  09-01-21         L   1.62       745    1036       105       64   \n",
       "4  42071705  10-01-21         L   1.92       776    1006        95       62   \n",
       "\n",
       "   r x100  Re/Rm  ...  Sn ppm  Mid Heating P1(C)  After Heating P2(C)  \\\n",
       "0      68     75  ...      29         676.178739           796.351746   \n",
       "1      65     67  ...      71         702.678408           801.863220   \n",
       "2      67     77  ...      25         702.122903           808.970886   \n",
       "3      64     72  ...      25         704.809447           811.805298   \n",
       "4      68     77  ...      26         693.695165           817.500122   \n",
       "\n",
       "   After Soaking     P3(C)  After rapid cooling P4(C)  Linespeed    (m/min)  \\\n",
       "0               800.987915                 487.601574             51.922714   \n",
       "1               806.446350                 497.245289            130.468628   \n",
       "2               818.309814                 484.193967             78.013863   \n",
       "3               818.166443                 481.330018             76.819946   \n",
       "4               796.503906                 481.701958             63.891125   \n",
       "\n",
       "   Zink bottom  (gr/m2)  Zink top  (gr/m2)  SKP elongation      (%)  \\\n",
       "0             55.509306          54.877287                 0.395166   \n",
       "1             60.863074          53.569768                 0.453954   \n",
       "2             53.647423          53.234872                 0.394861   \n",
       "3             53.221745          53.219945                 0.394584   \n",
       "4             51.919579          54.494145                 0.452333   \n",
       "\n",
       "   SKP Pressure          (kN)  \n",
       "0                 8271.445498  \n",
       "1                 8263.117895  \n",
       "2                 7390.691312  \n",
       "3                 7435.146814  \n",
       "4                 6744.308326  \n",
       "\n",
       "[5 rows x 38 columns]"
      ]
     },
     "execution_count": 169,
     "metadata": {},
     "output_type": "execute_result"
    }
   ],
   "source": [
    "df.head()"
   ]
  },
  {
   "cell_type": "code",
   "execution_count": 170,
   "metadata": {},
   "outputs": [
    {
     "data": {
      "text/html": [
       "<div>\n",
       "<style scoped>\n",
       "    .dataframe tbody tr th:only-of-type {\n",
       "        vertical-align: middle;\n",
       "    }\n",
       "\n",
       "    .dataframe tbody tr th {\n",
       "        vertical-align: top;\n",
       "    }\n",
       "\n",
       "    .dataframe thead th {\n",
       "        text-align: right;\n",
       "    }\n",
       "</style>\n",
       "<table border=\"1\" class=\"dataframe\">\n",
       "  <thead>\n",
       "    <tr style=\"text-align: right;\">\n",
       "      <th></th>\n",
       "      <th>Coilnr</th>\n",
       "      <th>Th mm</th>\n",
       "      <th>Re02 Mpa</th>\n",
       "      <th>Rm Mpa</th>\n",
       "      <th>A80 x10%</th>\n",
       "      <th>n x1000</th>\n",
       "      <th>r x100</th>\n",
       "      <th>Re/Rm</th>\n",
       "      <th>Au x10%</th>\n",
       "      <th>FRT (°C)</th>\n",
       "      <th>...</th>\n",
       "      <th>Sn ppm</th>\n",
       "      <th>Mid Heating P1(C)</th>\n",
       "      <th>After Heating P2(C)</th>\n",
       "      <th>After Soaking     P3(C)</th>\n",
       "      <th>After rapid cooling P4(C)</th>\n",
       "      <th>Linespeed    (m/min)</th>\n",
       "      <th>Zink bottom  (gr/m2)</th>\n",
       "      <th>Zink top  (gr/m2)</th>\n",
       "      <th>SKP elongation      (%)</th>\n",
       "      <th>SKP Pressure          (kN)</th>\n",
       "    </tr>\n",
       "  </thead>\n",
       "  <tbody>\n",
       "    <tr>\n",
       "      <th>count</th>\n",
       "      <td>6.420000e+02</td>\n",
       "      <td>642.000000</td>\n",
       "      <td>642.000000</td>\n",
       "      <td>642.000000</td>\n",
       "      <td>642.000000</td>\n",
       "      <td>642.000000</td>\n",
       "      <td>642.000000</td>\n",
       "      <td>642.000000</td>\n",
       "      <td>642.000000</td>\n",
       "      <td>642.000000</td>\n",
       "      <td>...</td>\n",
       "      <td>642.000000</td>\n",
       "      <td>642.000000</td>\n",
       "      <td>642.000000</td>\n",
       "      <td>642.000000</td>\n",
       "      <td>642.000000</td>\n",
       "      <td>642.000000</td>\n",
       "      <td>642.000000</td>\n",
       "      <td>642.000000</td>\n",
       "      <td>642.000000</td>\n",
       "      <td>642.000000</td>\n",
       "    </tr>\n",
       "    <tr>\n",
       "      <th>mean</th>\n",
       "      <td>4.519242e+07</td>\n",
       "      <td>1.362336</td>\n",
       "      <td>755.992212</td>\n",
       "      <td>1021.789720</td>\n",
       "      <td>101.112150</td>\n",
       "      <td>61.928349</td>\n",
       "      <td>68.917445</td>\n",
       "      <td>73.953271</td>\n",
       "      <td>55.342679</td>\n",
       "      <td>934.241433</td>\n",
       "      <td>...</td>\n",
       "      <td>35.456386</td>\n",
       "      <td>704.197733</td>\n",
       "      <td>805.902552</td>\n",
       "      <td>815.027914</td>\n",
       "      <td>483.340144</td>\n",
       "      <td>94.834979</td>\n",
       "      <td>55.849999</td>\n",
       "      <td>54.527488</td>\n",
       "      <td>0.399793</td>\n",
       "      <td>6908.133056</td>\n",
       "    </tr>\n",
       "    <tr>\n",
       "      <th>std</th>\n",
       "      <td>2.236331e+06</td>\n",
       "      <td>0.278166</td>\n",
       "      <td>43.104795</td>\n",
       "      <td>22.455107</td>\n",
       "      <td>14.728215</td>\n",
       "      <td>11.176132</td>\n",
       "      <td>5.268253</td>\n",
       "      <td>3.375279</td>\n",
       "      <td>7.754281</td>\n",
       "      <td>8.477701</td>\n",
       "      <td>...</td>\n",
       "      <td>13.578183</td>\n",
       "      <td>9.714371</td>\n",
       "      <td>6.758231</td>\n",
       "      <td>6.169880</td>\n",
       "      <td>5.797254</td>\n",
       "      <td>20.600089</td>\n",
       "      <td>4.760644</td>\n",
       "      <td>4.498364</td>\n",
       "      <td>0.029070</td>\n",
       "      <td>1258.780634</td>\n",
       "    </tr>\n",
       "    <tr>\n",
       "      <th>min</th>\n",
       "      <td>4.194357e+07</td>\n",
       "      <td>0.810000</td>\n",
       "      <td>658.000000</td>\n",
       "      <td>970.000000</td>\n",
       "      <td>59.000000</td>\n",
       "      <td>31.000000</td>\n",
       "      <td>40.000000</td>\n",
       "      <td>66.000000</td>\n",
       "      <td>31.000000</td>\n",
       "      <td>899.000000</td>\n",
       "      <td>...</td>\n",
       "      <td>20.000000</td>\n",
       "      <td>662.650662</td>\n",
       "      <td>780.974670</td>\n",
       "      <td>795.607117</td>\n",
       "      <td>470.231511</td>\n",
       "      <td>51.922714</td>\n",
       "      <td>49.820602</td>\n",
       "      <td>48.877839</td>\n",
       "      <td>0.299066</td>\n",
       "      <td>4112.522876</td>\n",
       "    </tr>\n",
       "    <tr>\n",
       "      <th>25%</th>\n",
       "      <td>4.333904e+07</td>\n",
       "      <td>1.160000</td>\n",
       "      <td>721.000000</td>\n",
       "      <td>1005.000000</td>\n",
       "      <td>92.000000</td>\n",
       "      <td>58.000000</td>\n",
       "      <td>66.000000</td>\n",
       "      <td>71.000000</td>\n",
       "      <td>50.000000</td>\n",
       "      <td>928.000000</td>\n",
       "      <td>...</td>\n",
       "      <td>26.000000</td>\n",
       "      <td>700.004712</td>\n",
       "      <td>801.684357</td>\n",
       "      <td>810.318909</td>\n",
       "      <td>479.396075</td>\n",
       "      <td>78.744143</td>\n",
       "      <td>53.354118</td>\n",
       "      <td>52.429027</td>\n",
       "      <td>0.393439</td>\n",
       "      <td>5996.950708</td>\n",
       "    </tr>\n",
       "    <tr>\n",
       "      <th>50%</th>\n",
       "      <td>4.492826e+07</td>\n",
       "      <td>1.370000</td>\n",
       "      <td>763.500000</td>\n",
       "      <td>1023.000000</td>\n",
       "      <td>102.000000</td>\n",
       "      <td>64.000000</td>\n",
       "      <td>69.000000</td>\n",
       "      <td>75.000000</td>\n",
       "      <td>55.000000</td>\n",
       "      <td>934.000000</td>\n",
       "      <td>...</td>\n",
       "      <td>29.000000</td>\n",
       "      <td>705.228958</td>\n",
       "      <td>808.289246</td>\n",
       "      <td>816.970734</td>\n",
       "      <td>482.803692</td>\n",
       "      <td>91.915077</td>\n",
       "      <td>54.355656</td>\n",
       "      <td>53.093873</td>\n",
       "      <td>0.394838</td>\n",
       "      <td>6808.134155</td>\n",
       "    </tr>\n",
       "    <tr>\n",
       "      <th>75%</th>\n",
       "      <td>4.703460e+07</td>\n",
       "      <td>1.570000</td>\n",
       "      <td>789.000000</td>\n",
       "      <td>1038.000000</td>\n",
       "      <td>111.000000</td>\n",
       "      <td>70.000000</td>\n",
       "      <td>72.000000</td>\n",
       "      <td>76.000000</td>\n",
       "      <td>60.000000</td>\n",
       "      <td>939.000000</td>\n",
       "      <td>...</td>\n",
       "      <td>42.000000</td>\n",
       "      <td>709.433372</td>\n",
       "      <td>810.248901</td>\n",
       "      <td>819.839996</td>\n",
       "      <td>485.905191</td>\n",
       "      <td>108.873264</td>\n",
       "      <td>56.232747</td>\n",
       "      <td>54.570220</td>\n",
       "      <td>0.395494</td>\n",
       "      <td>7732.074367</td>\n",
       "    </tr>\n",
       "    <tr>\n",
       "      <th>max</th>\n",
       "      <td>4.956658e+07</td>\n",
       "      <td>2.040000</td>\n",
       "      <td>851.000000</td>\n",
       "      <td>1082.000000</td>\n",
       "      <td>140.000000</td>\n",
       "      <td>83.000000</td>\n",
       "      <td>91.000000</td>\n",
       "      <td>81.000000</td>\n",
       "      <td>77.000000</td>\n",
       "      <td>960.000000</td>\n",
       "      <td>...</td>\n",
       "      <td>75.000000</td>\n",
       "      <td>754.199046</td>\n",
       "      <td>835.396606</td>\n",
       "      <td>832.460266</td>\n",
       "      <td>509.319692</td>\n",
       "      <td>147.113602</td>\n",
       "      <td>80.683978</td>\n",
       "      <td>79.302885</td>\n",
       "      <td>0.516063</td>\n",
       "      <td>10000.037090</td>\n",
       "    </tr>\n",
       "  </tbody>\n",
       "</table>\n",
       "<p>8 rows × 36 columns</p>\n",
       "</div>"
      ],
      "text/plain": [
       "             Coilnr       Th mm    Re02 Mpa       Rm Mpa    A80 x10%  \\\n",
       "count  6.420000e+02  642.000000  642.000000   642.000000  642.000000   \n",
       "mean   4.519242e+07    1.362336  755.992212  1021.789720  101.112150   \n",
       "std    2.236331e+06    0.278166   43.104795    22.455107   14.728215   \n",
       "min    4.194357e+07    0.810000  658.000000   970.000000   59.000000   \n",
       "25%    4.333904e+07    1.160000  721.000000  1005.000000   92.000000   \n",
       "50%    4.492826e+07    1.370000  763.500000  1023.000000  102.000000   \n",
       "75%    4.703460e+07    1.570000  789.000000  1038.000000  111.000000   \n",
       "max    4.956658e+07    2.040000  851.000000  1082.000000  140.000000   \n",
       "\n",
       "          n x1000      r x100       Re/Rm     Au x10%    FRT (°C)  ...  \\\n",
       "count  642.000000  642.000000  642.000000  642.000000  642.000000  ...   \n",
       "mean    61.928349   68.917445   73.953271   55.342679  934.241433  ...   \n",
       "std     11.176132    5.268253    3.375279    7.754281    8.477701  ...   \n",
       "min     31.000000   40.000000   66.000000   31.000000  899.000000  ...   \n",
       "25%     58.000000   66.000000   71.000000   50.000000  928.000000  ...   \n",
       "50%     64.000000   69.000000   75.000000   55.000000  934.000000  ...   \n",
       "75%     70.000000   72.000000   76.000000   60.000000  939.000000  ...   \n",
       "max     83.000000   91.000000   81.000000   77.000000  960.000000  ...   \n",
       "\n",
       "           Sn ppm  Mid Heating P1(C)  After Heating P2(C)  \\\n",
       "count  642.000000         642.000000           642.000000   \n",
       "mean    35.456386         704.197733           805.902552   \n",
       "std     13.578183           9.714371             6.758231   \n",
       "min     20.000000         662.650662           780.974670   \n",
       "25%     26.000000         700.004712           801.684357   \n",
       "50%     29.000000         705.228958           808.289246   \n",
       "75%     42.000000         709.433372           810.248901   \n",
       "max     75.000000         754.199046           835.396606   \n",
       "\n",
       "       After Soaking     P3(C)  After rapid cooling P4(C)  \\\n",
       "count               642.000000                 642.000000   \n",
       "mean                815.027914                 483.340144   \n",
       "std                   6.169880                   5.797254   \n",
       "min                 795.607117                 470.231511   \n",
       "25%                 810.318909                 479.396075   \n",
       "50%                 816.970734                 482.803692   \n",
       "75%                 819.839996                 485.905191   \n",
       "max                 832.460266                 509.319692   \n",
       "\n",
       "       Linespeed    (m/min)  Zink bottom  (gr/m2)  Zink top  (gr/m2)  \\\n",
       "count            642.000000            642.000000         642.000000   \n",
       "mean              94.834979             55.849999          54.527488   \n",
       "std               20.600089              4.760644           4.498364   \n",
       "min               51.922714             49.820602          48.877839   \n",
       "25%               78.744143             53.354118          52.429027   \n",
       "50%               91.915077             54.355656          53.093873   \n",
       "75%              108.873264             56.232747          54.570220   \n",
       "max              147.113602             80.683978          79.302885   \n",
       "\n",
       "       SKP elongation      (%)  SKP Pressure          (kN)  \n",
       "count               642.000000                  642.000000  \n",
       "mean                  0.399793                 6908.133056  \n",
       "std                   0.029070                 1258.780634  \n",
       "min                   0.299066                 4112.522876  \n",
       "25%                   0.393439                 5996.950708  \n",
       "50%                   0.394838                 6808.134155  \n",
       "75%                   0.395494                 7732.074367  \n",
       "max                   0.516063                10000.037090  \n",
       "\n",
       "[8 rows x 36 columns]"
      ]
     },
     "execution_count": 170,
     "metadata": {},
     "output_type": "execute_result"
    }
   ],
   "source": [
    "df.describe()"
   ]
  },
  {
   "cell_type": "code",
   "execution_count": 171,
   "metadata": {},
   "outputs": [
    {
     "name": "stdout",
     "output_type": "stream",
     "text": [
      "<class 'pandas.core.frame.DataFrame'>\n",
      "RangeIndex: 642 entries, 0 to 641\n",
      "Data columns (total 38 columns):\n",
      " #   Column                      Non-Null Count  Dtype  \n",
      "---  ------                      --------------  -----  \n",
      " 0   Coilnr                      642 non-null    int64  \n",
      " 1   Date                        642 non-null    object \n",
      " 2   Direction                   642 non-null    object \n",
      " 3   Th mm                       642 non-null    float64\n",
      " 4   Re02 Mpa                    642 non-null    int64  \n",
      " 5   Rm Mpa                      642 non-null    int64  \n",
      " 6   A80 x10%                    642 non-null    int64  \n",
      " 7   n x1000                     642 non-null    int64  \n",
      " 8   r x100                      642 non-null    int64  \n",
      " 9   Re/Rm                       642 non-null    int64  \n",
      " 10  Au x10%                     642 non-null    int64  \n",
      " 11  FRT (°C)                    642 non-null    int64  \n",
      " 12  CT (°C)                     642 non-null    int64  \n",
      " 13  C ppm                       642 non-null    int64  \n",
      " 14  Mn ppm                      642 non-null    int64  \n",
      " 15  Si ppm                      642 non-null    int64  \n",
      " 16  P ppm                       642 non-null    int64  \n",
      " 17  S ppm                       642 non-null    int64  \n",
      " 18  N ppm                       642 non-null    int64  \n",
      " 19  Al ppm                      642 non-null    int64  \n",
      " 20  Ti ppm                      642 non-null    int64  \n",
      " 21  Cu ppm                      642 non-null    int64  \n",
      " 22  Cr ppm                      642 non-null    int64  \n",
      " 23  Ni ppm                      642 non-null    int64  \n",
      " 24  Nb ppm                      642 non-null    int64  \n",
      " 25  B ppm                       642 non-null    int64  \n",
      " 26  V ppm                       642 non-null    int64  \n",
      " 27  Mo ppm                      642 non-null    int64  \n",
      " 28  Sn ppm                      642 non-null    int64  \n",
      " 29  Mid Heating P1(C)           642 non-null    float64\n",
      " 30  After Heating P2(C)         642 non-null    float64\n",
      " 31  After Soaking     P3(C)     642 non-null    float64\n",
      " 32  After rapid cooling P4(C)   642 non-null    float64\n",
      " 33  Linespeed    (m/min)        642 non-null    float64\n",
      " 34  Zink bottom  (gr/m2)        642 non-null    float64\n",
      " 35  Zink top  (gr/m2)           642 non-null    float64\n",
      " 36  SKP elongation      (%)     642 non-null    float64\n",
      " 37  SKP Pressure          (kN)  642 non-null    float64\n",
      "dtypes: float64(10), int64(26), object(2)\n",
      "memory usage: 190.7+ KB\n"
     ]
    }
   ],
   "source": [
    "df.info()"
   ]
  },
  {
   "cell_type": "markdown",
   "metadata": {},
   "source": [
    "# Separation du dataset en train-set et test-set"
   ]
  },
  {
   "cell_type": "code",
   "execution_count": 172,
   "metadata": {},
   "outputs": [
    {
     "name": "stdout",
     "output_type": "stream",
     "text": [
      "(513, 32) (129, 32) (513,) (129,)\n"
     ]
    }
   ],
   "source": [
    "from sklearn.model_selection import train_test_split\n",
    "\n",
    "filters = df[[\"Date\", \"Direction\",\"Re/Rm\"]]\n",
    "\n",
    "target_re02 = df[[\"Re02 Mpa\"]]\n",
    "target_rm = df[[\"Rm Mpa\"]]\n",
    "target_A = df[[\"A80 x10%\"]]\n",
    "\n",
    "features = df.drop(target_A + target_re02 + target_rm + filters ,axis=1)\n",
    "\n",
    "\n",
    "X_train,X_test,Y_train_rm,Y_test_rm = train_test_split(features,target_rm,test_size=0.20,random_state=0)\n",
    "Y_train_rm = Y_train_rm.values.ravel()\n",
    "Y_test_rm = Y_test_rm.values.ravel()\n",
    "\n",
    "X_train_re02,X_test_re02,Y_train_re02,Y_test_re02 = train_test_split(features,target_re02,test_size=0.20,random_state=0)\n",
    "Y_train_re02 = Y_train_re02.values.ravel()\n",
    "Y_test_re02 = Y_test_re02.values.ravel()\n",
    "\n",
    "X_train_A,X_test_A,Y_train_A,Y_test_A = train_test_split(features,target_A,test_size=0.20,random_state=0)\n",
    "Y_train_A = Y_train_A.values.ravel()\n",
    "Y_test_A = Y_test_A.values.ravel()\n",
    "\n",
    "print(X_train.shape, X_test.shape, Y_train_rm.shape, Y_test_rm.shape)"
   ]
  },
  {
   "cell_type": "markdown",
   "metadata": {},
   "source": [
    "# Modele de Régression"
   ]
  },
  {
   "cell_type": "markdown",
   "metadata": {},
   "source": [
    "## Importation des métriques"
   ]
  },
  {
   "cell_type": "code",
   "execution_count": 173,
   "metadata": {},
   "outputs": [],
   "source": [
    "from sklearn.metrics import r2_score, mean_squared_error"
   ]
  },
  {
   "cell_type": "markdown",
   "metadata": {},
   "source": [
    "## Random Forest"
   ]
  },
  {
   "cell_type": "markdown",
   "metadata": {},
   "source": [
    "### Prédiction de la résistance mécanique $R_m$"
   ]
  },
  {
   "cell_type": "code",
   "execution_count": 184,
   "metadata": {},
   "outputs": [
    {
     "name": "stdout",
     "output_type": "stream",
     "text": [
      "0.9978717285976809\n",
      "0.6881093714531481\n",
      "(129,)\n",
      "(129,)\n",
      "R2_score :  0.6881093714531481\n",
      "MSE :  157.53544856266163\n"
     ]
    }
   ],
   "source": [
    "from sklearn.ensemble import RandomForestRegressor\n",
    "\n",
    "\n",
    "rfr = RandomForestRegressor(bootstrap=False, \n",
    "                            max_depth=24, \n",
    "                            max_features=13,\n",
    "                            min_samples_split=4, \n",
    "                            n_estimators=80, \n",
    "                            n_jobs=-1)\n",
    "\n",
    "rfr.fit(X_train, Y_train_rm)\n",
    "print(rfr.score(X_train, Y_train_rm))\n",
    "print(rfr.score(X_test, Y_test_rm))\n",
    "\n",
    "Y_pred_rfr = rfr.predict(X_test)\n",
    "print(Y_pred_rfr.shape)\n",
    "print(Y_test_rm.shape)\n",
    "\n",
    "print(\"R2_score : \", r2_score(Y_test_rm, Y_pred_rfr))\n",
    "print(\"MSE : \", mean_squared_error(Y_test_rm, Y_pred_rfr))\n",
    "\n"
   ]
  },
  {
   "cell_type": "code",
   "execution_count": 185,
   "metadata": {},
   "outputs": [
    {
     "data": {
      "image/png": "[encoded data removed]",
      "text/plain": [
       "<Figure size 432x288 with 1 Axes>"
      ]
     },
     "metadata": {
      "needs_background": "light"
     },
     "output_type": "display_data"
    }
   ],
   "source": [
    "plt.plot( Y_test_rm, Y_pred_rfr, 'o')\n",
    "plt.xlabel(\"Données réelles\")\n",
    "plt.ylabel(\"Données prédites\")\n",
    "plt.show()"
   ]
  },
  {
   "cell_type": "markdown",
   "metadata": {},
   "source": [
    "### Prédiction de la résistance élastique à 0.2% $R_{e0.2}$"
   ]
  },
  {
   "cell_type": "code",
   "execution_count": 186,
   "metadata": {},
   "outputs": [
    {
     "name": "stdout",
     "output_type": "stream",
     "text": [
      "0.9990943697802303\n",
      "0.800454225658245\n",
      "(129,)\n",
      "(129,)\n",
      "R2_score :  0.8004542256582448\n",
      "MSE :  365.140635659882\n"
     ]
    }
   ],
   "source": [
    "from sklearn.ensemble import RandomForestRegressor\n",
    "\n",
    "\n",
    "rfr_re02 = RandomForestRegressor(   bootstrap=False, \n",
    "                                    max_depth=26, \n",
    "                                    max_features=17,\n",
    "                                    min_samples_split=4, \n",
    "                                    n_estimators=110, \n",
    "                                    n_jobs=-1)\n",
    "\n",
    "\n",
    "rfr_re02.fit(X_train_re02, Y_train_re02)\n",
    "print(rfr_re02.score(X_train_re02, Y_train_re02))\n",
    "print(rfr_re02.score(X_test_re02, Y_test_re02))\n",
    "\n",
    "Y_pred_rfr_re02 = rfr_re02.predict(X_test_re02)\n",
    "print(Y_pred_rfr_re02.shape)\n",
    "print(Y_test_re02.shape)\n",
    "\n",
    "print(\"R2_score : \", r2_score(Y_test_re02, Y_pred_rfr_re02))\n",
    "print(\"MSE : \", mean_squared_error(Y_test_re02, Y_pred_rfr_re02))"
   ]
  },
  {
   "cell_type": "code",
   "execution_count": 199,
   "metadata": {},
   "outputs": [
    {
     "data": {
      "image/png": "[encoded data removed]",
      "text/plain": [
       "<Figure size 432x288 with 1 Axes>"
      ]
     },
     "metadata": {
      "needs_background": "light"
     },
     "output_type": "display_data"
    }
   ],
   "source": [
    "plt.plot(Y_test_re02, Y_pred_rfr_re02, 'o')\n",
    "plt.xlabel(\"Données réelles\")\n",
    "plt.ylabel(\"Données prédites\")\n",
    "plt.show()"
   ]
  },
  {
   "cell_type": "markdown",
   "metadata": {},
   "source": [
    "### Prédiction de l'allongement à la rupture $A_\\%$"
   ]
  },
  {
   "cell_type": "code",
   "execution_count": 194,
   "metadata": {},
   "outputs": [
    {
     "name": "stdout",
     "output_type": "stream",
     "text": [
      "0.9991336403334773\n",
      "0.8387497814415037\n",
      "(129,)\n",
      "(129,)\n",
      "R2_score :  0.8387497814415038\n",
      "MSE :  34.32105427068429\n"
     ]
    }
   ],
   "source": [
    "from sklearn.ensemble import RandomForestRegressor\n",
    "\n",
    "rfr_A = RandomForestRegressor(  bootstrap=False, \n",
    "                                max_depth=20, \n",
    "                                max_features=17,\n",
    "                                min_samples_split=4, \n",
    "                                n_estimators=110, \n",
    "                                n_jobs=-1)\n",
    "\n",
    "\n",
    "rfr_A.fit(X_train_A, Y_train_A)\n",
    "print(rfr_A.score(X_train_A, Y_train_A))\n",
    "print(rfr_A.score(X_test_A, Y_test_A))\n",
    "\n",
    "Y_pred_rfr_A = rfr_A.predict(X_test_A)\n",
    "print(Y_pred_rfr_A.shape)\n",
    "print(Y_test_A.shape)\n",
    "\n",
    "print(\"R2_score : \", r2_score(Y_test_A, Y_pred_rfr_A))\n",
    "print(\"MSE : \", mean_squared_error(Y_test_A, Y_pred_rfr_A))"
   ]
  },
  {
   "cell_type": "code",
   "execution_count": 200,
   "metadata": {},
   "outputs": [
    {
     "data": {
      "image/png": "[encoded data removed]",
      "text/plain": [
       "<Figure size 432x288 with 1 Axes>"
      ]
     },
     "metadata": {
      "needs_background": "light"
     },
     "output_type": "display_data"
    }
   ],
   "source": [
    "plt.plot( Y_test_A, Y_pred_rfr_A, 'o')\n",
    "plt.xlabel(\"Données réelles\")\n",
    "plt.ylabel(\"Données prédites\")\n",
    "plt.show()"
   ]
  },
  {
   "cell_type": "markdown",
   "metadata": {},
   "source": [
    "# Enregistrement des modèles"
   ]
  },
  {
   "cell_type": "code",
   "execution_count": 196,
   "metadata": {},
   "outputs": [],
   "source": [
    "import pickle\n",
    "\n",
    "modele_path = \"./modeles/\"\n",
    "\n",
    "# now you can save it to a file\n",
    "with open(modele_path + 'random_forest_re02_2.pkl', 'wb') as f:\n",
    "    pickle.dump(rfr_re02, f)\n",
    "\n",
    "with open(modele_path + 'random_forest_rm_2.pkl', 'wb') as f:\n",
    "    pickle.dump(rfr, f)\n",
    "    \n",
    "with open(modele_path + 'random_forest_A_2.pkl', 'wb') as f:\n",
    "    pickle.dump(rfr_A, f)  \n"
   ]
  },
  {
   "cell_type": "markdown",
   "metadata": {},
   "source": [
    "# Chargement des modèles"
   ]
  },
  {
   "cell_type": "code",
   "execution_count": 208,
   "metadata": {},
   "outputs": [
    {
     "name": "stdout",
     "output_type": "stream",
     "text": [
      "-------------------------\n",
      "Résistance mécanique Rm\n",
      "-------------------------\n",
      "Train:  0.9978717285976809\n",
      "Test:  0.688109371453149\n",
      "-------------------------\n",
      "Résistance élastique Re02\n",
      "-------------------------\n",
      "Train:  0.9990943697802303\n",
      "Test:  0.8004542256582448\n",
      "mse\n",
      "-------------------------\n",
      "Allongement à la rupture A%\n",
      "-------------------------\n",
      "Train:  0.9991336403334773\n",
      "Test:  0.8387497814415037\n"
     ]
    }
   ],
   "source": [
    "import pickle\n",
    "modele_path = \"./modeles/\"\n",
    "\n",
    "with open(modele_path + 'random_forest_rm_2.pkl', 'rb') as f:\n",
    "    clf_rm = pickle.load(f)\n",
    "print(\"-------------------------\")\n",
    "print(\"Résistance mécanique Rm\")\n",
    "print(\"-------------------------\")\n",
    "print(\"Train: \",clf_rm.score(X_train, Y_train_rm))\n",
    "print(\"Test: \", clf_rm.score(X_test, Y_test_rm))\n",
    "\n",
    "with open(modele_path + 'random_forest_re02_2.pkl', 'rb') as f:\n",
    "    clf_re02 = pickle.load(f)\n",
    "    \n",
    "print(\"-------------------------\")\n",
    "print(\"Résistance élastique Re02\")\n",
    "print(\"-------------------------\")\n",
    "print(\"Train: \", clf_re02.score(X_train_re02, Y_train_re02))\n",
    "print(\"Test: \", clf_re02.score(X_test_re02, Y_test_re02))\n",
    "\n",
    "with open(modele_path + 'random_forest_A_2.pkl', 'rb') as f:\n",
    "    clf_A = pickle.load(f)\n",
    "print(\"-------------------------\")\n",
    "print(\"Allongement à la rupture A%\")\n",
    "print(\"-------------------------\")\n",
    "print(\"Train: \",clf_A.score(X_train_A, Y_train_A))\n",
    "print(\"Test: \", clf_A.score(X_test_A, Y_test_A))\n"
   ]
  },
  {
   "cell_type": "markdown",
   "metadata": {},
   "source": []
  }
 ],
 "metadata": {
  "interpreter": {
   "hash": "40d3a090f54c6569ab1632332b64b2c03c39dcf918b08424e98f38b5ae0af88f"
  },
  "kernelspec": {
   "display_name": "Python 3.8.5 64-bit ('base': conda)",
   "language": "python",
   "name": "python3"
  },
  "language_info": {
   "codemirror_mode": {
    "name": "ipython",
    "version": 3
   },
   "file_extension": ".py",
   "mimetype": "text/x-python",
   "name": "python",
   "nbconvert_exporter": "python",
   "pygments_lexer": "ipython3",
   "version": "3.8.5"
  },
  "orig_nbformat": 4
 },
 "nbformat": 4,
 "nbformat_minor": 2
}
